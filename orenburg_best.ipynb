{
  "nbformat": 4,
  "nbformat_minor": 0,
  "metadata": {
    "colab": {
      "name": "orenburg_best.ipynb",
      "provenance": [],
      "collapsed_sections": []
    },
    "kernelspec": {
      "name": "python3",
      "display_name": "Python 3"
    },
    "language_info": {
      "name": "python"
    }
  },
  "cells": [
    {
      "cell_type": "markdown",
      "source": [
        "# Разработка модели прогнозирования выбора образовательных курсов пользователями"
      ],
      "metadata": {
        "id": "qb_ajqWXuguV"
      }
    },
    {
      "cell_type": "markdown",
      "source": [
        "## Загрузим нужные библиотеки"
      ],
      "metadata": {
        "id": "4kLdI5WammqW"
      }
    },
    {
      "cell_type": "code",
      "execution_count": null,
      "metadata": {
        "id": "MTgpe_1quUDs"
      },
      "outputs": [],
      "source": [
        "import pandas as pd\n",
        "import seaborn as sns\n",
        "import matplotlib.pyplot as plt\n",
        "from sklearn.model_selection import train_test_split\n",
        "from sklearn.ensemble import RandomForestClassifier\n",
        "from sklearn.preprocessing import StandardScaler\n",
        "from sklearn.preprocessing import LabelEncoder\n",
        "from sklearn import tree\n",
        "import numpy as np\n",
        "from sklearn.metrics import recall_score, precision_score\n",
        "\n",
        "%matplotlib inline"
      ]
    },
    {
      "cell_type": "code",
      "source": [
        "df = pd.read_csv(\"/content/train_dataset_train.csv\")"
      ],
      "metadata": {
        "id": "o9N4JbcWudk2"
      },
      "execution_count": null,
      "outputs": []
    },
    {
      "cell_type": "markdown",
      "source": [
        "## Рассмотрим датасет по ближе"
      ],
      "metadata": {
        "id": "GgCS5B_PutbW"
      }
    },
    {
      "cell_type": "code",
      "source": [
        "df.head(5)"
      ],
      "metadata": {
        "colab": {
          "base_uri": "https://localhost:8080/",
          "height": 299
        },
        "id": "qEvfySMMutBR",
        "outputId": "52777fe4-2807-4a83-e9ae-8f74a70efef5"
      },
      "execution_count": null,
      "outputs": [
        {
          "output_type": "execute_result",
          "data": {
            "text/plain": [
              "       id  age_indicator    month_id  student_id  program_id carts_created_at  \\\n",
              "0   15182           32.0   9/30/2020     6694527        1469        8/26/2020   \n",
              "1   89385            NaN   6/30/2021     6712877        1392         8/5/2020   \n",
              "2   47931            NaN   2/28/2021     6659444         376        6/20/2020   \n",
              "3  279085            1.0  11/30/2021     7151591        1160        4/14/2021   \n",
              "4    7806           30.0  10/31/2020     6705666         952        7/19/2020   \n",
              "\n",
              "   spent_time_total  spent_time_to_complete_hw  completed_hw  failed_hw  ...  \\\n",
              "0             163.0                        0.0           1.0        0.0  ...   \n",
              "1               NaN                        NaN           NaN        NaN  ...   \n",
              "2               NaN                        NaN           NaN        NaN  ...   \n",
              "3               NaN                        NaN           NaN        NaN  ...   \n",
              "4               NaN                        NaN           NaN        NaN  ...   \n",
              "\n",
              "   p_total_calls  p_was_conversations  p_total_duration  support_feedback_avg  \\\n",
              "0            NaN                  NaN               NaN                   4.0   \n",
              "1            NaN                  NaN               NaN                   NaN   \n",
              "2            NaN                  NaN               NaN                   NaN   \n",
              "3            NaN                  NaN               NaN                   NaN   \n",
              "4            NaN                  NaN               NaN                   NaN   \n",
              "\n",
              "   feedback_avg_d1  feedback_avg_d2  feedback_avg_d3  feedback_avg_d4  \\\n",
              "0              5.0              NaN              NaN              NaN   \n",
              "1              NaN              NaN              NaN              NaN   \n",
              "2              NaN              NaN              NaN              NaN   \n",
              "3              NaN              NaN              NaN              NaN   \n",
              "4              5.0              NaN              NaN              NaN   \n",
              "\n",
              "   feedback_avg_d5  target  \n",
              "0              NaN       0  \n",
              "1              NaN       0  \n",
              "2              NaN       0  \n",
              "3              NaN       0  \n",
              "4              NaN       0  \n",
              "\n",
              "[5 rows x 59 columns]"
            ],
            "text/html": [
              "\n",
              "  <div id=\"df-800163d1-dc09-4706-99b1-3b967e30bde8\">\n",
              "    <div class=\"colab-df-container\">\n",
              "      <div>\n",
              "<style scoped>\n",
              "    .dataframe tbody tr th:only-of-type {\n",
              "        vertical-align: middle;\n",
              "    }\n",
              "\n",
              "    .dataframe tbody tr th {\n",
              "        vertical-align: top;\n",
              "    }\n",
              "\n",
              "    .dataframe thead th {\n",
              "        text-align: right;\n",
              "    }\n",
              "</style>\n",
              "<table border=\"1\" class=\"dataframe\">\n",
              "  <thead>\n",
              "    <tr style=\"text-align: right;\">\n",
              "      <th></th>\n",
              "      <th>id</th>\n",
              "      <th>age_indicator</th>\n",
              "      <th>month_id</th>\n",
              "      <th>student_id</th>\n",
              "      <th>program_id</th>\n",
              "      <th>carts_created_at</th>\n",
              "      <th>spent_time_total</th>\n",
              "      <th>spent_time_to_complete_hw</th>\n",
              "      <th>completed_hw</th>\n",
              "      <th>failed_hw</th>\n",
              "      <th>...</th>\n",
              "      <th>p_total_calls</th>\n",
              "      <th>p_was_conversations</th>\n",
              "      <th>p_total_duration</th>\n",
              "      <th>support_feedback_avg</th>\n",
              "      <th>feedback_avg_d1</th>\n",
              "      <th>feedback_avg_d2</th>\n",
              "      <th>feedback_avg_d3</th>\n",
              "      <th>feedback_avg_d4</th>\n",
              "      <th>feedback_avg_d5</th>\n",
              "      <th>target</th>\n",
              "    </tr>\n",
              "  </thead>\n",
              "  <tbody>\n",
              "    <tr>\n",
              "      <th>0</th>\n",
              "      <td>15182</td>\n",
              "      <td>32.0</td>\n",
              "      <td>9/30/2020</td>\n",
              "      <td>6694527</td>\n",
              "      <td>1469</td>\n",
              "      <td>8/26/2020</td>\n",
              "      <td>163.0</td>\n",
              "      <td>0.0</td>\n",
              "      <td>1.0</td>\n",
              "      <td>0.0</td>\n",
              "      <td>...</td>\n",
              "      <td>NaN</td>\n",
              "      <td>NaN</td>\n",
              "      <td>NaN</td>\n",
              "      <td>4.0</td>\n",
              "      <td>5.0</td>\n",
              "      <td>NaN</td>\n",
              "      <td>NaN</td>\n",
              "      <td>NaN</td>\n",
              "      <td>NaN</td>\n",
              "      <td>0</td>\n",
              "    </tr>\n",
              "    <tr>\n",
              "      <th>1</th>\n",
              "      <td>89385</td>\n",
              "      <td>NaN</td>\n",
              "      <td>6/30/2021</td>\n",
              "      <td>6712877</td>\n",
              "      <td>1392</td>\n",
              "      <td>8/5/2020</td>\n",
              "      <td>NaN</td>\n",
              "      <td>NaN</td>\n",
              "      <td>NaN</td>\n",
              "      <td>NaN</td>\n",
              "      <td>...</td>\n",
              "      <td>NaN</td>\n",
              "      <td>NaN</td>\n",
              "      <td>NaN</td>\n",
              "      <td>NaN</td>\n",
              "      <td>NaN</td>\n",
              "      <td>NaN</td>\n",
              "      <td>NaN</td>\n",
              "      <td>NaN</td>\n",
              "      <td>NaN</td>\n",
              "      <td>0</td>\n",
              "    </tr>\n",
              "    <tr>\n",
              "      <th>2</th>\n",
              "      <td>47931</td>\n",
              "      <td>NaN</td>\n",
              "      <td>2/28/2021</td>\n",
              "      <td>6659444</td>\n",
              "      <td>376</td>\n",
              "      <td>6/20/2020</td>\n",
              "      <td>NaN</td>\n",
              "      <td>NaN</td>\n",
              "      <td>NaN</td>\n",
              "      <td>NaN</td>\n",
              "      <td>...</td>\n",
              "      <td>NaN</td>\n",
              "      <td>NaN</td>\n",
              "      <td>NaN</td>\n",
              "      <td>NaN</td>\n",
              "      <td>NaN</td>\n",
              "      <td>NaN</td>\n",
              "      <td>NaN</td>\n",
              "      <td>NaN</td>\n",
              "      <td>NaN</td>\n",
              "      <td>0</td>\n",
              "    </tr>\n",
              "    <tr>\n",
              "      <th>3</th>\n",
              "      <td>279085</td>\n",
              "      <td>1.0</td>\n",
              "      <td>11/30/2021</td>\n",
              "      <td>7151591</td>\n",
              "      <td>1160</td>\n",
              "      <td>4/14/2021</td>\n",
              "      <td>NaN</td>\n",
              "      <td>NaN</td>\n",
              "      <td>NaN</td>\n",
              "      <td>NaN</td>\n",
              "      <td>...</td>\n",
              "      <td>NaN</td>\n",
              "      <td>NaN</td>\n",
              "      <td>NaN</td>\n",
              "      <td>NaN</td>\n",
              "      <td>NaN</td>\n",
              "      <td>NaN</td>\n",
              "      <td>NaN</td>\n",
              "      <td>NaN</td>\n",
              "      <td>NaN</td>\n",
              "      <td>0</td>\n",
              "    </tr>\n",
              "    <tr>\n",
              "      <th>4</th>\n",
              "      <td>7806</td>\n",
              "      <td>30.0</td>\n",
              "      <td>10/31/2020</td>\n",
              "      <td>6705666</td>\n",
              "      <td>952</td>\n",
              "      <td>7/19/2020</td>\n",
              "      <td>NaN</td>\n",
              "      <td>NaN</td>\n",
              "      <td>NaN</td>\n",
              "      <td>NaN</td>\n",
              "      <td>...</td>\n",
              "      <td>NaN</td>\n",
              "      <td>NaN</td>\n",
              "      <td>NaN</td>\n",
              "      <td>NaN</td>\n",
              "      <td>5.0</td>\n",
              "      <td>NaN</td>\n",
              "      <td>NaN</td>\n",
              "      <td>NaN</td>\n",
              "      <td>NaN</td>\n",
              "      <td>0</td>\n",
              "    </tr>\n",
              "  </tbody>\n",
              "</table>\n",
              "<p>5 rows × 59 columns</p>\n",
              "</div>\n",
              "      <button class=\"colab-df-convert\" onclick=\"convertToInteractive('df-800163d1-dc09-4706-99b1-3b967e30bde8')\"\n",
              "              title=\"Convert this dataframe to an interactive table.\"\n",
              "              style=\"display:none;\">\n",
              "        \n",
              "  <svg xmlns=\"http://www.w3.org/2000/svg\" height=\"24px\"viewBox=\"0 0 24 24\"\n",
              "       width=\"24px\">\n",
              "    <path d=\"M0 0h24v24H0V0z\" fill=\"none\"/>\n",
              "    <path d=\"M18.56 5.44l.94 2.06.94-2.06 2.06-.94-2.06-.94-.94-2.06-.94 2.06-2.06.94zm-11 1L8.5 8.5l.94-2.06 2.06-.94-2.06-.94L8.5 2.5l-.94 2.06-2.06.94zm10 10l.94 2.06.94-2.06 2.06-.94-2.06-.94-.94-2.06-.94 2.06-2.06.94z\"/><path d=\"M17.41 7.96l-1.37-1.37c-.4-.4-.92-.59-1.43-.59-.52 0-1.04.2-1.43.59L10.3 9.45l-7.72 7.72c-.78.78-.78 2.05 0 2.83L4 21.41c.39.39.9.59 1.41.59.51 0 1.02-.2 1.41-.59l7.78-7.78 2.81-2.81c.8-.78.8-2.07 0-2.86zM5.41 20L4 18.59l7.72-7.72 1.47 1.35L5.41 20z\"/>\n",
              "  </svg>\n",
              "      </button>\n",
              "      \n",
              "  <style>\n",
              "    .colab-df-container {\n",
              "      display:flex;\n",
              "      flex-wrap:wrap;\n",
              "      gap: 12px;\n",
              "    }\n",
              "\n",
              "    .colab-df-convert {\n",
              "      background-color: #E8F0FE;\n",
              "      border: none;\n",
              "      border-radius: 50%;\n",
              "      cursor: pointer;\n",
              "      display: none;\n",
              "      fill: #1967D2;\n",
              "      height: 32px;\n",
              "      padding: 0 0 0 0;\n",
              "      width: 32px;\n",
              "    }\n",
              "\n",
              "    .colab-df-convert:hover {\n",
              "      background-color: #E2EBFA;\n",
              "      box-shadow: 0px 1px 2px rgba(60, 64, 67, 0.3), 0px 1px 3px 1px rgba(60, 64, 67, 0.15);\n",
              "      fill: #174EA6;\n",
              "    }\n",
              "\n",
              "    [theme=dark] .colab-df-convert {\n",
              "      background-color: #3B4455;\n",
              "      fill: #D2E3FC;\n",
              "    }\n",
              "\n",
              "    [theme=dark] .colab-df-convert:hover {\n",
              "      background-color: #434B5C;\n",
              "      box-shadow: 0px 1px 3px 1px rgba(0, 0, 0, 0.15);\n",
              "      filter: drop-shadow(0px 1px 2px rgba(0, 0, 0, 0.3));\n",
              "      fill: #FFFFFF;\n",
              "    }\n",
              "  </style>\n",
              "\n",
              "      <script>\n",
              "        const buttonEl =\n",
              "          document.querySelector('#df-800163d1-dc09-4706-99b1-3b967e30bde8 button.colab-df-convert');\n",
              "        buttonEl.style.display =\n",
              "          google.colab.kernel.accessAllowed ? 'block' : 'none';\n",
              "\n",
              "        async function convertToInteractive(key) {\n",
              "          const element = document.querySelector('#df-800163d1-dc09-4706-99b1-3b967e30bde8');\n",
              "          const dataTable =\n",
              "            await google.colab.kernel.invokeFunction('convertToInteractive',\n",
              "                                                     [key], {});\n",
              "          if (!dataTable) return;\n",
              "\n",
              "          const docLinkHtml = 'Like what you see? Visit the ' +\n",
              "            '<a target=\"_blank\" href=https://colab.research.google.com/notebooks/data_table.ipynb>data table notebook</a>'\n",
              "            + ' to learn more about interactive tables.';\n",
              "          element.innerHTML = '';\n",
              "          dataTable['output_type'] = 'display_data';\n",
              "          await google.colab.output.renderOutput(dataTable, element);\n",
              "          const docLink = document.createElement('div');\n",
              "          docLink.innerHTML = docLinkHtml;\n",
              "          element.appendChild(docLink);\n",
              "        }\n",
              "      </script>\n",
              "    </div>\n",
              "  </div>\n",
              "  "
            ]
          },
          "metadata": {},
          "execution_count": 3
        }
      ]
    },
    {
      "cell_type": "code",
      "source": [
        "df.shape"
      ],
      "metadata": {
        "colab": {
          "base_uri": "https://localhost:8080/"
        },
        "id": "DfQqkXCOueeM",
        "outputId": "7ab810ce-2614-4ed4-e52d-f81421b1a116"
      },
      "execution_count": null,
      "outputs": [
        {
          "output_type": "execute_result",
          "data": {
            "text/plain": [
              "(200000, 59)"
            ]
          },
          "metadata": {},
          "execution_count": 4
        }
      ]
    },
    {
      "cell_type": "code",
      "source": [
        "df.info()"
      ],
      "metadata": {
        "colab": {
          "base_uri": "https://localhost:8080/"
        },
        "id": "NUHy7c-tuegn",
        "outputId": "fb7c8295-3628-4643-9156-27e841285fe0"
      },
      "execution_count": null,
      "outputs": [
        {
          "output_type": "stream",
          "name": "stdout",
          "text": [
            "<class 'pandas.core.frame.DataFrame'>\n",
            "RangeIndex: 200000 entries, 0 to 199999\n",
            "Data columns (total 59 columns):\n",
            " #   Column                     Non-Null Count   Dtype  \n",
            "---  ------                     --------------   -----  \n",
            " 0   id                         200000 non-null  int64  \n",
            " 1   age_indicator              159123 non-null  float64\n",
            " 2   month_id                   200000 non-null  object \n",
            " 3   student_id                 200000 non-null  int64  \n",
            " 4   program_id                 200000 non-null  int64  \n",
            " 5   carts_created_at           200000 non-null  object \n",
            " 6   spent_time_total           86309 non-null   float64\n",
            " 7   spent_time_to_complete_hw  42467 non-null   float64\n",
            " 8   completed_hw               97599 non-null   float64\n",
            " 9   failed_hw                  97599 non-null   float64\n",
            " 10  reworked_hw                97599 non-null   float64\n",
            " 11  interacted_hw              97599 non-null   float64\n",
            " 12  avg_hw_mark                44496 non-null   float64\n",
            " 13  test_with_good_mark        97599 non-null   float64\n",
            " 14  test_with_great_mark       97599 non-null   float64\n",
            " 15  webinars                   97599 non-null   float64\n",
            " 16  avg_quiz_result            16259 non-null   float64\n",
            " 17  notes                      97599 non-null   float64\n",
            " 18  hw_leader                  97599 non-null   float64\n",
            " 19  lessons                    97599 non-null   float64\n",
            " 20  activity                   97599 non-null   float64\n",
            " 21  bought_d1                  200000 non-null  int64  \n",
            " 22  bought_d2                  200000 non-null  int64  \n",
            " 23  bought_d3                  200000 non-null  int64  \n",
            " 24  bought_d4                  200000 non-null  int64  \n",
            " 25  bought_d5                  200000 non-null  int64  \n",
            " 26  bought_avg_duration        10359 non-null   float64\n",
            " 27  payment_type               200000 non-null  int64  \n",
            " 28  promo                      200000 non-null  object \n",
            " 29  price                      200000 non-null  float64\n",
            " 30  communication_type         198595 non-null  object \n",
            " 31  auto_payment               200000 non-null  int64  \n",
            " 32  ABC                        200000 non-null  object \n",
            " 33  city                       13592 non-null   object \n",
            " 34  country                    12944 non-null   object \n",
            " 35  gender                     199940 non-null  float64\n",
            " 36  speed_recall               21880 non-null   float64\n",
            " 37  os                         77374 non-null   object \n",
            " 38  browser                    77374 non-null   object \n",
            " 39  platform                   77361 non-null   object \n",
            " 40  m_avg_talk_duration        51537 non-null   float64\n",
            " 41  m_avg_duration             45764 non-null   float64\n",
            " 42  m_missed_calls             51537 non-null   float64\n",
            " 43  m_total_calls              51537 non-null   float64\n",
            " 44  m_was_conversations        51537 non-null   float64\n",
            " 45  m_total_duration           51537 non-null   float64\n",
            " 46  p_avg_talk_duration        16453 non-null   float64\n",
            " 47  p_avg_duration             13488 non-null   float64\n",
            " 48  p_missed_calls             16453 non-null   float64\n",
            " 49  p_total_calls              16453 non-null   float64\n",
            " 50  p_was_conversations        16453 non-null   float64\n",
            " 51  p_total_duration           16453 non-null   float64\n",
            " 52  support_feedback_avg       37557 non-null   float64\n",
            " 53  feedback_avg_d1            48496 non-null   float64\n",
            " 54  feedback_avg_d2            14805 non-null   float64\n",
            " 55  feedback_avg_d3            17778 non-null   float64\n",
            " 56  feedback_avg_d4            25076 non-null   float64\n",
            " 57  feedback_avg_d5            15733 non-null   float64\n",
            " 58  target                     200000 non-null  int64  \n",
            "dtypes: float64(38), int64(11), object(10)\n",
            "memory usage: 90.0+ MB\n"
          ]
        }
      ]
    },
    {
      "cell_type": "code",
      "source": [
        "df.carts_created_at.value_counts()                   "
      ],
      "metadata": {
        "colab": {
          "base_uri": "https://localhost:8080/"
        },
        "id": "DI5s6M6NvFKj",
        "outputId": "511c8d61-1edb-48e6-e4f1-e556442ef691"
      },
      "execution_count": null,
      "outputs": [
        {
          "output_type": "execute_result",
          "data": {
            "text/plain": [
              "12/30/2020    2940\n",
              "8/24/2020     1806\n",
              "8/27/2020     1770\n",
              "12/31/2020    1738\n",
              "8/31/2020     1724\n",
              "              ... \n",
              "11/16/2021      28\n",
              "6/8/2020        24\n",
              "6/6/2020        22\n",
              "6/9/2020        13\n",
              "6/5/2020        13\n",
              "Name: carts_created_at, Length: 447, dtype: int64"
            ]
          },
          "metadata": {},
          "execution_count": 6
        }
      ]
    },
    {
      "cell_type": "code",
      "source": [
        "df.communication_type.value_counts()                   "
      ],
      "metadata": {
        "colab": {
          "base_uri": "https://localhost:8080/"
        },
        "id": "Dqw2k-RGveDE",
        "outputId": "f43714b3-d52a-4d4c-ae28-bbf6046e3ff9"
      },
      "execution_count": null,
      "outputs": [
        {
          "output_type": "execute_result",
          "data": {
            "text/plain": [
              "order    120786\n",
              "web       49759\n",
              "phone     28050\n",
              "Name: communication_type, dtype: int64"
            ]
          },
          "metadata": {},
          "execution_count": 7
        }
      ]
    },
    {
      "cell_type": "markdown",
      "source": [
        "Заменим все пропуски в данных"
      ],
      "metadata": {
        "id": "IjTGeJP3u1-4"
      }
    },
    {
      "cell_type": "code",
      "source": [
        "df_train = df \n",
        "df = df.fillna(0)"
      ],
      "metadata": {
        "id": "sWf6o_06uei9"
      },
      "execution_count": null,
      "outputs": []
    },
    {
      "cell_type": "markdown",
      "source": [
        "Посмотрим на распределение данных"
      ],
      "metadata": {
        "id": "4cxnT51gu5fJ"
      }
    },
    {
      "cell_type": "code",
      "source": [
        "sns.countplot(x = \"target\" , data  = df).set_title('Распределение предсказываемой величены')"
      ],
      "metadata": {
        "colab": {
          "base_uri": "https://localhost:8080/",
          "height": 312
        },
        "id": "205eCTRPu3Au",
        "outputId": "f5951acb-f416-43f0-e833-6b77a59bc6f1"
      },
      "execution_count": null,
      "outputs": [
        {
          "output_type": "execute_result",
          "data": {
            "text/plain": [
              "Text(0.5, 1.0, 'Распределение предсказываемой величены')"
            ]
          },
          "metadata": {},
          "execution_count": 9
        },
        {
          "output_type": "display_data",
          "data": {
            "text/plain": [
              "<Figure size 432x288 with 1 Axes>"
            ],
            "image/png": "[encoded data removed]"
          },
          "metadata": {
            "needs_background": "light"
          }
        }
      ]
    },
    {
      "cell_type": "code",
      "source": [
        "df[\"age_indicator\"].hist(bins = 40).set_title('Распределение возраста')"
      ],
      "metadata": {
        "colab": {
          "base_uri": "https://localhost:8080/",
          "height": 298
        },
        "id": "0hNUU0Dvu3DC",
        "outputId": "49285f75-23bc-4d6a-9a5a-6359611592c6"
      },
      "execution_count": null,
      "outputs": [
        {
          "output_type": "execute_result",
          "data": {
            "text/plain": [
              "Text(0.5, 1.0, 'Распределение возраста')"
            ]
          },
          "metadata": {},
          "execution_count": 10
        },
        {
          "output_type": "display_data",
          "data": {
            "text/plain": [
              "<Figure size 432x288 with 1 Axes>"
            ],
            "image/png": "[encoded data removed]"
          },
          "metadata": {
            "needs_background": "light"
          }
        }
      ]
    },
    {
      "cell_type": "code",
      "source": [
        "max(df[\"age_indicator\"])"
      ],
      "metadata": {
        "colab": {
          "base_uri": "https://localhost:8080/"
        },
        "id": "uvH50JTDu3Fd",
        "outputId": "4ac75b5b-d98c-44dd-b156-b676fd26b534"
      },
      "execution_count": null,
      "outputs": [
        {
          "output_type": "execute_result",
          "data": {
            "text/plain": [
              "40.0"
            ]
          },
          "metadata": {},
          "execution_count": 11
        }
      ]
    },
    {
      "cell_type": "markdown",
      "source": [
        "Взглянем на несколько величин сразу"
      ],
      "metadata": {
        "id": "Q0CkiEzGwusL"
      }
    },
    {
      "cell_type": "code",
      "source": [
        "df.columns"
      ],
      "metadata": {
        "colab": {
          "base_uri": "https://localhost:8080/"
        },
        "id": "rliZR2Asw6HW",
        "outputId": "1f76c9a3-1787-42d6-8202-7d04f4d0d76e"
      },
      "execution_count": null,
      "outputs": [
        {
          "output_type": "execute_result",
          "data": {
            "text/plain": [
              "Index(['id', 'age_indicator', 'month_id', 'student_id', 'program_id',\n",
              "       'carts_created_at', 'spent_time_total', 'spent_time_to_complete_hw',\n",
              "       'completed_hw', 'failed_hw', 'reworked_hw', 'interacted_hw',\n",
              "       'avg_hw_mark', 'test_with_good_mark', 'test_with_great_mark',\n",
              "       'webinars', 'avg_quiz_result', 'notes', 'hw_leader', 'lessons',\n",
              "       'activity', 'bought_d1', 'bought_d2', 'bought_d3', 'bought_d4',\n",
              "       'bought_d5', 'bought_avg_duration', 'payment_type', 'promo', 'price',\n",
              "       'communication_type', 'auto_payment', 'ABC', 'city', 'country',\n",
              "       'gender', 'speed_recall', 'os', 'browser', 'platform',\n",
              "       'm_avg_talk_duration', 'm_avg_duration', 'm_missed_calls',\n",
              "       'm_total_calls', 'm_was_conversations', 'm_total_duration',\n",
              "       'p_avg_talk_duration', 'p_avg_duration', 'p_missed_calls',\n",
              "       'p_total_calls', 'p_was_conversations', 'p_total_duration',\n",
              "       'support_feedback_avg', 'feedback_avg_d1', 'feedback_avg_d2',\n",
              "       'feedback_avg_d3', 'feedback_avg_d4', 'feedback_avg_d5', 'target'],\n",
              "      dtype='object')"
            ]
          },
          "metadata": {},
          "execution_count": 12
        }
      ]
    },
    {
      "cell_type": "code",
      "source": [
        "features = list(set(['age_indicator',\n",
        "       'carts_created_at', 'spent_time_total', 'spent_time_to_complete_hw',\n",
        "       'completed_hw', 'failed_hw', 'reworked_hw', 'interacted_hw',\n",
        "       'avg_hw_mark', 'test_with_good_mark', 'test_with_great_mark',\n",
        "       'webinars', 'avg_quiz_result', 'notes', 'hw_leader', 'lessons',\n",
        "       'activity', 'bought_d1', 'bought_d2', 'bought_d3', 'bought_d4',\n",
        "       'bought_d5', 'bought_avg_duration']))\n",
        "\n",
        "_ = df[features].hist(figsize=(20,12))"
      ],
      "metadata": {
        "colab": {
          "base_uri": "https://localhost:8080/",
          "height": 677
        },
        "id": "NM_Cufl3u3H0",
        "outputId": "1d003691-2be8-4549-93cb-567607cb446b"
      },
      "execution_count": null,
      "outputs": [
        {
          "output_type": "display_data",
          "data": {
            "text/plain": [
              "<Figure size 1440x864 with 25 Axes>"
            ],
            "image/png": "[encoded data removed]"
          },
          "metadata": {
            "needs_background": "light"
          }
        }
      ]
    },
    {
      "cell_type": "markdown",
      "source": [
        "Обратим внимание на часть столбцов с постоянными значениями"
      ],
      "metadata": {
        "id": "zr-31zZQxUwx"
      }
    },
    {
      "cell_type": "code",
      "source": [
        "df.spent_time_to_complete_hw.value_counts()"
      ],
      "metadata": {
        "colab": {
          "base_uri": "https://localhost:8080/"
        },
        "id": "qw4IcQ2fu3KL",
        "outputId": "75d8c130-327b-4e62-90cf-114f6c0a7a96"
      },
      "execution_count": null,
      "outputs": [
        {
          "output_type": "execute_result",
          "data": {
            "text/plain": [
              " 0.0    199999\n",
              "-1.0         1\n",
              "Name: spent_time_to_complete_hw, dtype: int64"
            ]
          },
          "metadata": {},
          "execution_count": 14
        }
      ]
    },
    {
      "cell_type": "code",
      "source": [
        "df.bought_d4.value_counts()"
      ],
      "metadata": {
        "colab": {
          "base_uri": "https://localhost:8080/"
        },
        "id": "m1D4sPQzxS5l",
        "outputId": "0356588f-33f0-4b3f-998d-2e66688c068d"
      },
      "execution_count": null,
      "outputs": [
        {
          "output_type": "execute_result",
          "data": {
            "text/plain": [
              "0    198694\n",
              "1      1262\n",
              "3        40\n",
              "4         4\n",
              "Name: bought_d4, dtype: int64"
            ]
          },
          "metadata": {},
          "execution_count": 15
        }
      ]
    },
    {
      "cell_type": "code",
      "source": [
        "plt.rcParams['figure.figsize']=(15,15)\n",
        "\n",
        "df_corr = df[[\"target\",'age_indicator',\n",
        "       'carts_created_at', 'spent_time_total',\n",
        "       'completed_hw', 'failed_hw', 'reworked_hw', 'interacted_hw',\n",
        "       'avg_hw_mark', 'test_with_good_mark', 'test_with_great_mark',\n",
        "       'webinars', 'avg_quiz_result', 'notes', 'hw_leader', 'lessons',\n",
        "       'activity', 'bought_d1', 'bought_d2', 'bought_d3',\n",
        "       'bought_d5', 'bought_avg_duration']]\n",
        "\n",
        "g = sns.heatmap(df_corr.corr(), square = True, annot=True)"
      ],
      "metadata": {
        "colab": {
          "base_uri": "https://localhost:8080/",
          "height": 892
        },
        "id": "VnDPAAahyOnw",
        "outputId": "f6df039d-eca9-41dc-90ea-c0e01b5f3627"
      },
      "execution_count": null,
      "outputs": [
        {
          "output_type": "display_data",
          "data": {
            "text/plain": [
              "<Figure size 1080x1080 with 2 Axes>"
            ],
            "image/png": "[encoded data removed]"
          },
          "metadata": {
            "needs_background": "light"
          }
        }
      ]
    },
    {
      "cell_type": "markdown",
      "source": [
        "## Выделим выборки"
      ],
      "metadata": {
        "id": "VLOa56f5zfUg"
      }
    },
    {
      "cell_type": "code",
      "source": [
        "df.dtypes[df.dtypes == \"object\"].values"
      ],
      "metadata": {
        "colab": {
          "base_uri": "https://localhost:8080/"
        },
        "id": "T5wEuIQ50ibJ",
        "outputId": "1cdea412-393e-4f54-c79b-1675e9fafc4b"
      },
      "execution_count": null,
      "outputs": [
        {
          "output_type": "execute_result",
          "data": {
            "text/plain": [
              "array([dtype('O'), dtype('O'), dtype('O'), dtype('O'), dtype('O'),\n",
              "       dtype('O'), dtype('O'), dtype('O'), dtype('O'), dtype('O')],\n",
              "      dtype=object)"
            ]
          },
          "metadata": {},
          "execution_count": 17
        }
      ]
    },
    {
      "cell_type": "markdown",
      "source": [
        "Поместим все столбцы object в массив, для их дальнейшего удаления"
      ],
      "metadata": {
        "id": "845Wf3zJ1dhc"
      }
    },
    {
      "cell_type": "code",
      "source": [
        "mass_object = df.dtypes[df.dtypes == \"object\"].index.values"
      ],
      "metadata": {
        "id": "Poa1_MKE08xs"
      },
      "execution_count": null,
      "outputs": []
    },
    {
      "cell_type": "code",
      "source": [
        "mass_object = np.append(mass_object, \"target\")"
      ],
      "metadata": {
        "id": "mAhVoVTj1l-D"
      },
      "execution_count": null,
      "outputs": []
    },
    {
      "cell_type": "code",
      "source": [
        "X = df.drop(mass_object, axis = 1)\n",
        "y = df[[\"target\"]]"
      ],
      "metadata": {
        "id": "czsoZexkyyTw"
      },
      "execution_count": null,
      "outputs": []
    },
    {
      "cell_type": "code",
      "source": [
        "X.shape"
      ],
      "metadata": {
        "colab": {
          "base_uri": "https://localhost:8080/"
        },
        "id": "BSNwra3e07wI",
        "outputId": "bcebea05-1c1b-43c9-929e-4ef10f21069d"
      },
      "execution_count": null,
      "outputs": [
        {
          "output_type": "execute_result",
          "data": {
            "text/plain": [
              "(200000, 48)"
            ]
          },
          "metadata": {},
          "execution_count": 21
        }
      ]
    },
    {
      "cell_type": "code",
      "source": [
        "X_train, X_test, y_train, y_test = train_test_split(X, y, test_size=0.3, random_state=42)"
      ],
      "metadata": {
        "id": "E-LfoARf2WGZ"
      },
      "execution_count": null,
      "outputs": []
    },
    {
      "cell_type": "markdown",
      "source": [
        "## Обучение модели"
      ],
      "metadata": {
        "id": "X_HOvpXy2e3S"
      }
    },
    {
      "cell_type": "code",
      "source": [
        "clf = RandomForestClassifier(random_state=0)"
      ],
      "metadata": {
        "id": "1ypNSGoK2czB"
      },
      "execution_count": null,
      "outputs": []
    },
    {
      "cell_type": "code",
      "source": [
        "clf.fit(X_train, y_train)"
      ],
      "metadata": {
        "colab": {
          "base_uri": "https://localhost:8080/"
        },
        "id": "8K_JDzCJ2glP",
        "outputId": "c3a49a2c-6d07-4d33-e452-5962f7e070b7"
      },
      "execution_count": null,
      "outputs": [
        {
          "output_type": "stream",
          "name": "stderr",
          "text": [
            "/usr/local/lib/python3.7/dist-packages/ipykernel_launcher.py:1: DataConversionWarning: A column-vector y was passed when a 1d array was expected. Please change the shape of y to (n_samples,), for example using ravel().\n",
            "  \"\"\"Entry point for launching an IPython kernel.\n"
          ]
        },
        {
          "output_type": "execute_result",
          "data": {
            "text/plain": [
              "RandomForestClassifier(random_state=0)"
            ]
          },
          "metadata": {},
          "execution_count": 24
        }
      ]
    },
    {
      "cell_type": "markdown",
      "source": [
        "## Оценка точности"
      ],
      "metadata": {
        "id": "aqxTaUVm2iiP"
      }
    },
    {
      "cell_type": "code",
      "source": [
        "pred = clf.predict(X_test)"
      ],
      "metadata": {
        "id": "aJt5-Okm2h3I"
      },
      "execution_count": null,
      "outputs": []
    },
    {
      "cell_type": "code",
      "source": [
        "y_test.head(3)"
      ],
      "metadata": {
        "colab": {
          "base_uri": "https://localhost:8080/",
          "height": 143
        },
        "id": "1_6H6poY2l-A",
        "outputId": "a0023875-b992-4662-9b2c-58aac6fd4d5f"
      },
      "execution_count": null,
      "outputs": [
        {
          "output_type": "execute_result",
          "data": {
            "text/plain": [
              "        target\n",
              "119737       0\n",
              "72272        0\n",
              "158154       0"
            ],
            "text/html": [
              "\n",
              "  <div id=\"df-157054bd-6691-4947-8935-56eedc4fc359\">\n",
              "    <div class=\"colab-df-container\">\n",
              "      <div>\n",
              "<style scoped>\n",
              "    .dataframe tbody tr th:only-of-type {\n",
              "        vertical-align: middle;\n",
              "    }\n",
              "\n",
              "    .dataframe tbody tr th {\n",
              "        vertical-align: top;\n",
              "    }\n",
              "\n",
              "    .dataframe thead th {\n",
              "        text-align: right;\n",
              "    }\n",
              "</style>\n",
              "<table border=\"1\" class=\"dataframe\">\n",
              "  <thead>\n",
              "    <tr style=\"text-align: right;\">\n",
              "      <th></th>\n",
              "      <th>target</th>\n",
              "    </tr>\n",
              "  </thead>\n",
              "  <tbody>\n",
              "    <tr>\n",
              "      <th>119737</th>\n",
              "      <td>0</td>\n",
              "    </tr>\n",
              "    <tr>\n",
              "      <th>72272</th>\n",
              "      <td>0</td>\n",
              "    </tr>\n",
              "    <tr>\n",
              "      <th>158154</th>\n",
              "      <td>0</td>\n",
              "    </tr>\n",
              "  </tbody>\n",
              "</table>\n",
              "</div>\n",
              "      <button class=\"colab-df-convert\" onclick=\"convertToInteractive('df-157054bd-6691-4947-8935-56eedc4fc359')\"\n",
              "              title=\"Convert this dataframe to an interactive table.\"\n",
              "              style=\"display:none;\">\n",
              "        \n",
              "  <svg xmlns=\"http://www.w3.org/2000/svg\" height=\"24px\"viewBox=\"0 0 24 24\"\n",
              "       width=\"24px\">\n",
              "    <path d=\"M0 0h24v24H0V0z\" fill=\"none\"/>\n",
              "    <path d=\"M18.56 5.44l.94 2.06.94-2.06 2.06-.94-2.06-.94-.94-2.06-.94 2.06-2.06.94zm-11 1L8.5 8.5l.94-2.06 2.06-.94-2.06-.94L8.5 2.5l-.94 2.06-2.06.94zm10 10l.94 2.06.94-2.06 2.06-.94-2.06-.94-.94-2.06-.94 2.06-2.06.94z\"/><path d=\"M17.41 7.96l-1.37-1.37c-.4-.4-.92-.59-1.43-.59-.52 0-1.04.2-1.43.59L10.3 9.45l-7.72 7.72c-.78.78-.78 2.05 0 2.83L4 21.41c.39.39.9.59 1.41.59.51 0 1.02-.2 1.41-.59l7.78-7.78 2.81-2.81c.8-.78.8-2.07 0-2.86zM5.41 20L4 18.59l7.72-7.72 1.47 1.35L5.41 20z\"/>\n",
              "  </svg>\n",
              "      </button>\n",
              "      \n",
              "  <style>\n",
              "    .colab-df-container {\n",
              "      display:flex;\n",
              "      flex-wrap:wrap;\n",
              "      gap: 12px;\n",
              "    }\n",
              "\n",
              "    .colab-df-convert {\n",
              "      background-color: #E8F0FE;\n",
              "      border: none;\n",
              "      border-radius: 50%;\n",
              "      cursor: pointer;\n",
              "      display: none;\n",
              "      fill: #1967D2;\n",
              "      height: 32px;\n",
              "      padding: 0 0 0 0;\n",
              "      width: 32px;\n",
              "    }\n",
              "\n",
              "    .colab-df-convert:hover {\n",
              "      background-color: #E2EBFA;\n",
              "      box-shadow: 0px 1px 2px rgba(60, 64, 67, 0.3), 0px 1px 3px 1px rgba(60, 64, 67, 0.15);\n",
              "      fill: #174EA6;\n",
              "    }\n",
              "\n",
              "    [theme=dark] .colab-df-convert {\n",
              "      background-color: #3B4455;\n",
              "      fill: #D2E3FC;\n",
              "    }\n",
              "\n",
              "    [theme=dark] .colab-df-convert:hover {\n",
              "      background-color: #434B5C;\n",
              "      box-shadow: 0px 1px 3px 1px rgba(0, 0, 0, 0.15);\n",
              "      filter: drop-shadow(0px 1px 2px rgba(0, 0, 0, 0.3));\n",
              "      fill: #FFFFFF;\n",
              "    }\n",
              "  </style>\n",
              "\n",
              "      <script>\n",
              "        const buttonEl =\n",
              "          document.querySelector('#df-157054bd-6691-4947-8935-56eedc4fc359 button.colab-df-convert');\n",
              "        buttonEl.style.display =\n",
              "          google.colab.kernel.accessAllowed ? 'block' : 'none';\n",
              "\n",
              "        async function convertToInteractive(key) {\n",
              "          const element = document.querySelector('#df-157054bd-6691-4947-8935-56eedc4fc359');\n",
              "          const dataTable =\n",
              "            await google.colab.kernel.invokeFunction('convertToInteractive',\n",
              "                                                     [key], {});\n",
              "          if (!dataTable) return;\n",
              "\n",
              "          const docLinkHtml = 'Like what you see? Visit the ' +\n",
              "            '<a target=\"_blank\" href=https://colab.research.google.com/notebooks/data_table.ipynb>data table notebook</a>'\n",
              "            + ' to learn more about interactive tables.';\n",
              "          element.innerHTML = '';\n",
              "          dataTable['output_type'] = 'display_data';\n",
              "          await google.colab.output.renderOutput(dataTable, element);\n",
              "          const docLink = document.createElement('div');\n",
              "          docLink.innerHTML = docLinkHtml;\n",
              "          element.appendChild(docLink);\n",
              "        }\n",
              "      </script>\n",
              "    </div>\n",
              "  </div>\n",
              "  "
            ]
          },
          "metadata": {},
          "execution_count": 26
        }
      ]
    },
    {
      "cell_type": "code",
      "source": [
        "0.2* recall_score(y_test, pred, average='macro') + 0.8* precision_score(y_test, pred, average='macro')"
      ],
      "metadata": {
        "colab": {
          "base_uri": "https://localhost:8080/"
        },
        "id": "Vz2JrMW32m3N",
        "outputId": "c30d7ac6-9465-450d-f67d-f93f6486a52d"
      },
      "execution_count": null,
      "outputs": [
        {
          "output_type": "execute_result",
          "data": {
            "text/plain": [
              "0.7417353667606018"
            ]
          },
          "metadata": {},
          "execution_count": 27
        }
      ]
    },
    {
      "cell_type": "code",
      "source": [
        "df2 = pd.read_csv(\"/content/test_dataset_test.csv\")"
      ],
      "metadata": {
        "id": "SXXMYRZj2lZF"
      },
      "execution_count": null,
      "outputs": []
    },
    {
      "cell_type": "code",
      "source": [
        "df2.head(3)"
      ],
      "metadata": {
        "colab": {
          "base_uri": "https://localhost:8080/",
          "height": 237
        },
        "id": "c22RoUhJ23Dk",
        "outputId": "fb9c9769-6ca1-4f26-e475-895ab8182652"
      },
      "execution_count": null,
      "outputs": [
        {
          "output_type": "execute_result",
          "data": {
            "text/plain": [
              "       id  age_indicator   month_id  student_id  program_id carts_created_at  \\\n",
              "0   77551            NaN  5/31/2021     7064806        1395        2/28/2021   \n",
              "1  227812           27.0  5/31/2021     6982061         245         1/1/2021   \n",
              "2  103035            9.0  6/30/2021     7118790        1233        3/19/2021   \n",
              "\n",
              "   spent_time_total  spent_time_to_complete_hw  completed_hw  failed_hw  ...  \\\n",
              "0               NaN                        NaN           NaN        NaN  ...   \n",
              "1              81.0                        0.0           5.0        0.0  ...   \n",
              "2              49.0                        0.0           2.0        0.0  ...   \n",
              "\n",
              "   p_missed_calls  p_total_calls  p_was_conversations  p_total_duration  \\\n",
              "0             NaN            NaN                  NaN               NaN   \n",
              "1             NaN            NaN                  NaN               NaN   \n",
              "2             NaN            NaN                  NaN               NaN   \n",
              "\n",
              "   support_feedback_avg  feedback_avg_d1  feedback_avg_d2  feedback_avg_d3  \\\n",
              "0                   NaN              NaN              NaN              NaN   \n",
              "1                   NaN              NaN              NaN              NaN   \n",
              "2                   NaN              NaN              NaN              5.0   \n",
              "\n",
              "   feedback_avg_d4  feedback_avg_d5  \n",
              "0              NaN              NaN  \n",
              "1              NaN              NaN  \n",
              "2              NaN              NaN  \n",
              "\n",
              "[3 rows x 58 columns]"
            ],
            "text/html": [
              "\n",
              "  <div id=\"df-09307852-c19a-4192-a99d-4ba4c606dc24\">\n",
              "    <div class=\"colab-df-container\">\n",
              "      <div>\n",
              "<style scoped>\n",
              "    .dataframe tbody tr th:only-of-type {\n",
              "        vertical-align: middle;\n",
              "    }\n",
              "\n",
              "    .dataframe tbody tr th {\n",
              "        vertical-align: top;\n",
              "    }\n",
              "\n",
              "    .dataframe thead th {\n",
              "        text-align: right;\n",
              "    }\n",
              "</style>\n",
              "<table border=\"1\" class=\"dataframe\">\n",
              "  <thead>\n",
              "    <tr style=\"text-align: right;\">\n",
              "      <th></th>\n",
              "      <th>id</th>\n",
              "      <th>age_indicator</th>\n",
              "      <th>month_id</th>\n",
              "      <th>student_id</th>\n",
              "      <th>program_id</th>\n",
              "      <th>carts_created_at</th>\n",
              "      <th>spent_time_total</th>\n",
              "      <th>spent_time_to_complete_hw</th>\n",
              "      <th>completed_hw</th>\n",
              "      <th>failed_hw</th>\n",
              "      <th>...</th>\n",
              "      <th>p_missed_calls</th>\n",
              "      <th>p_total_calls</th>\n",
              "      <th>p_was_conversations</th>\n",
              "      <th>p_total_duration</th>\n",
              "      <th>support_feedback_avg</th>\n",
              "      <th>feedback_avg_d1</th>\n",
              "      <th>feedback_avg_d2</th>\n",
              "      <th>feedback_avg_d3</th>\n",
              "      <th>feedback_avg_d4</th>\n",
              "      <th>feedback_avg_d5</th>\n",
              "    </tr>\n",
              "  </thead>\n",
              "  <tbody>\n",
              "    <tr>\n",
              "      <th>0</th>\n",
              "      <td>77551</td>\n",
              "      <td>NaN</td>\n",
              "      <td>5/31/2021</td>\n",
              "      <td>7064806</td>\n",
              "      <td>1395</td>\n",
              "      <td>2/28/2021</td>\n",
              "      <td>NaN</td>\n",
              "      <td>NaN</td>\n",
              "      <td>NaN</td>\n",
              "      <td>NaN</td>\n",
              "      <td>...</td>\n",
              "      <td>NaN</td>\n",
              "      <td>NaN</td>\n",
              "      <td>NaN</td>\n",
              "      <td>NaN</td>\n",
              "      <td>NaN</td>\n",
              "      <td>NaN</td>\n",
              "      <td>NaN</td>\n",
              "      <td>NaN</td>\n",
              "      <td>NaN</td>\n",
              "      <td>NaN</td>\n",
              "    </tr>\n",
              "    <tr>\n",
              "      <th>1</th>\n",
              "      <td>227812</td>\n",
              "      <td>27.0</td>\n",
              "      <td>5/31/2021</td>\n",
              "      <td>6982061</td>\n",
              "      <td>245</td>\n",
              "      <td>1/1/2021</td>\n",
              "      <td>81.0</td>\n",
              "      <td>0.0</td>\n",
              "      <td>5.0</td>\n",
              "      <td>0.0</td>\n",
              "      <td>...</td>\n",
              "      <td>NaN</td>\n",
              "      <td>NaN</td>\n",
              "      <td>NaN</td>\n",
              "      <td>NaN</td>\n",
              "      <td>NaN</td>\n",
              "      <td>NaN</td>\n",
              "      <td>NaN</td>\n",
              "      <td>NaN</td>\n",
              "      <td>NaN</td>\n",
              "      <td>NaN</td>\n",
              "    </tr>\n",
              "    <tr>\n",
              "      <th>2</th>\n",
              "      <td>103035</td>\n",
              "      <td>9.0</td>\n",
              "      <td>6/30/2021</td>\n",
              "      <td>7118790</td>\n",
              "      <td>1233</td>\n",
              "      <td>3/19/2021</td>\n",
              "      <td>49.0</td>\n",
              "      <td>0.0</td>\n",
              "      <td>2.0</td>\n",
              "      <td>0.0</td>\n",
              "      <td>...</td>\n",
              "      <td>NaN</td>\n",
              "      <td>NaN</td>\n",
              "      <td>NaN</td>\n",
              "      <td>NaN</td>\n",
              "      <td>NaN</td>\n",
              "      <td>NaN</td>\n",
              "      <td>NaN</td>\n",
              "      <td>5.0</td>\n",
              "      <td>NaN</td>\n",
              "      <td>NaN</td>\n",
              "    </tr>\n",
              "  </tbody>\n",
              "</table>\n",
              "<p>3 rows × 58 columns</p>\n",
              "</div>\n",
              "      <button class=\"colab-df-convert\" onclick=\"convertToInteractive('df-09307852-c19a-4192-a99d-4ba4c606dc24')\"\n",
              "              title=\"Convert this dataframe to an interactive table.\"\n",
              "              style=\"display:none;\">\n",
              "        \n",
              "  <svg xmlns=\"http://www.w3.org/2000/svg\" height=\"24px\"viewBox=\"0 0 24 24\"\n",
              "       width=\"24px\">\n",
              "    <path d=\"M0 0h24v24H0V0z\" fill=\"none\"/>\n",
              "    <path d=\"M18.56 5.44l.94 2.06.94-2.06 2.06-.94-2.06-.94-.94-2.06-.94 2.06-2.06.94zm-11 1L8.5 8.5l.94-2.06 2.06-.94-2.06-.94L8.5 2.5l-.94 2.06-2.06.94zm10 10l.94 2.06.94-2.06 2.06-.94-2.06-.94-.94-2.06-.94 2.06-2.06.94z\"/><path d=\"M17.41 7.96l-1.37-1.37c-.4-.4-.92-.59-1.43-.59-.52 0-1.04.2-1.43.59L10.3 9.45l-7.72 7.72c-.78.78-.78 2.05 0 2.83L4 21.41c.39.39.9.59 1.41.59.51 0 1.02-.2 1.41-.59l7.78-7.78 2.81-2.81c.8-.78.8-2.07 0-2.86zM5.41 20L4 18.59l7.72-7.72 1.47 1.35L5.41 20z\"/>\n",
              "  </svg>\n",
              "      </button>\n",
              "      \n",
              "  <style>\n",
              "    .colab-df-container {\n",
              "      display:flex;\n",
              "      flex-wrap:wrap;\n",
              "      gap: 12px;\n",
              "    }\n",
              "\n",
              "    .colab-df-convert {\n",
              "      background-color: #E8F0FE;\n",
              "      border: none;\n",
              "      border-radius: 50%;\n",
              "      cursor: pointer;\n",
              "      display: none;\n",
              "      fill: #1967D2;\n",
              "      height: 32px;\n",
              "      padding: 0 0 0 0;\n",
              "      width: 32px;\n",
              "    }\n",
              "\n",
              "    .colab-df-convert:hover {\n",
              "      background-color: #E2EBFA;\n",
              "      box-shadow: 0px 1px 2px rgba(60, 64, 67, 0.3), 0px 1px 3px 1px rgba(60, 64, 67, 0.15);\n",
              "      fill: #174EA6;\n",
              "    }\n",
              "\n",
              "    [theme=dark] .colab-df-convert {\n",
              "      background-color: #3B4455;\n",
              "      fill: #D2E3FC;\n",
              "    }\n",
              "\n",
              "    [theme=dark] .colab-df-convert:hover {\n",
              "      background-color: #434B5C;\n",
              "      box-shadow: 0px 1px 3px 1px rgba(0, 0, 0, 0.15);\n",
              "      filter: drop-shadow(0px 1px 2px rgba(0, 0, 0, 0.3));\n",
              "      fill: #FFFFFF;\n",
              "    }\n",
              "  </style>\n",
              "\n",
              "      <script>\n",
              "        const buttonEl =\n",
              "          document.querySelector('#df-09307852-c19a-4192-a99d-4ba4c606dc24 button.colab-df-convert');\n",
              "        buttonEl.style.display =\n",
              "          google.colab.kernel.accessAllowed ? 'block' : 'none';\n",
              "\n",
              "        async function convertToInteractive(key) {\n",
              "          const element = document.querySelector('#df-09307852-c19a-4192-a99d-4ba4c606dc24');\n",
              "          const dataTable =\n",
              "            await google.colab.kernel.invokeFunction('convertToInteractive',\n",
              "                                                     [key], {});\n",
              "          if (!dataTable) return;\n",
              "\n",
              "          const docLinkHtml = 'Like what you see? Visit the ' +\n",
              "            '<a target=\"_blank\" href=https://colab.research.google.com/notebooks/data_table.ipynb>data table notebook</a>'\n",
              "            + ' to learn more about interactive tables.';\n",
              "          element.innerHTML = '';\n",
              "          dataTable['output_type'] = 'display_data';\n",
              "          await google.colab.output.renderOutput(dataTable, element);\n",
              "          const docLink = document.createElement('div');\n",
              "          docLink.innerHTML = docLinkHtml;\n",
              "          element.appendChild(docLink);\n",
              "        }\n",
              "      </script>\n",
              "    </div>\n",
              "  </div>\n",
              "  "
            ]
          },
          "metadata": {},
          "execution_count": 29
        }
      ]
    },
    {
      "cell_type": "code",
      "source": [
        "df2_test = df2\n",
        "df2 = df2.fillna(0)"
      ],
      "metadata": {
        "id": "3HGuaJ_k28yE"
      },
      "execution_count": null,
      "outputs": []
    },
    {
      "cell_type": "code",
      "source": [
        "df2"
      ],
      "metadata": {
        "colab": {
          "base_uri": "https://localhost:8080/",
          "height": 488
        },
        "id": "a-AV7x5P-0Um",
        "outputId": "acd624c6-a4ea-4ab4-d87c-ffbe40b0b12e"
      },
      "execution_count": null,
      "outputs": [
        {
          "output_type": "execute_result",
          "data": {
            "text/plain": [
              "           id  age_indicator    month_id  student_id  program_id  \\\n",
              "0       77551            0.0   5/31/2021     7064806        1395   \n",
              "1      227812           27.0   5/31/2021     6982061         245   \n",
              "2      103035            9.0   6/30/2021     7118790        1233   \n",
              "3      260943            0.0   9/30/2021     7288419         784   \n",
              "4      134611            7.0   8/31/2021     6949976         998   \n",
              "...       ...            ...         ...         ...         ...   \n",
              "84992  186427           15.0  10/31/2021     6841719          73   \n",
              "84993  197918           27.0  11/30/2021     6469768         885   \n",
              "84994  174961           37.0  10/31/2021     7328822        1126   \n",
              "84995  182226           14.0  11/30/2021     5255473        1495   \n",
              "84996   95178           17.0   6/30/2021     7243769         784   \n",
              "\n",
              "      carts_created_at  spent_time_total  spent_time_to_complete_hw  \\\n",
              "0            2/28/2021               0.0                        0.0   \n",
              "1             1/1/2021              81.0                        0.0   \n",
              "2            3/19/2021              49.0                        0.0   \n",
              "3            6/29/2021              10.0                        0.0   \n",
              "4           12/31/2020               0.0                        0.0   \n",
              "...                ...               ...                        ...   \n",
              "84992       10/19/2021              10.0                        0.0   \n",
              "84993        11/7/2021              27.0                        0.0   \n",
              "84994         7/5/2021               0.0                        0.0   \n",
              "84995        2/13/2021               0.0                        0.0   \n",
              "84996       12/30/2020               0.0                        0.0   \n",
              "\n",
              "       completed_hw  failed_hw  ...  p_missed_calls  p_total_calls  \\\n",
              "0               0.0        0.0  ...             0.0            0.0   \n",
              "1               5.0        0.0  ...             0.0            0.0   \n",
              "2               2.0        0.0  ...             0.0            0.0   \n",
              "3               0.0        0.0  ...             0.0            2.0   \n",
              "4               0.0        0.0  ...             0.0            0.0   \n",
              "...             ...        ...  ...             ...            ...   \n",
              "84992           0.0        0.0  ...             0.0            0.0   \n",
              "84993           0.0        0.0  ...             0.0            0.0   \n",
              "84994           1.0        0.0  ...             0.0            3.0   \n",
              "84995           0.0        0.0  ...             0.0            0.0   \n",
              "84996           0.0        0.0  ...             0.0            0.0   \n",
              "\n",
              "       p_was_conversations  p_total_duration  support_feedback_avg  \\\n",
              "0                      0.0               0.0                   0.0   \n",
              "1                      0.0               0.0                   0.0   \n",
              "2                      0.0               0.0                   0.0   \n",
              "3                      2.0              61.0                   0.0   \n",
              "4                      0.0               0.0                   0.0   \n",
              "...                    ...               ...                   ...   \n",
              "84992                  0.0               0.0                   0.0   \n",
              "84993                  0.0               0.0                   0.0   \n",
              "84994                  3.0             113.0                   0.0   \n",
              "84995                  0.0               0.0                   0.0   \n",
              "84996                  0.0               0.0                   0.0   \n",
              "\n",
              "       feedback_avg_d1  feedback_avg_d2  feedback_avg_d3  feedback_avg_d4  \\\n",
              "0                  0.0              0.0              0.0              0.0   \n",
              "1                  0.0              0.0              0.0              0.0   \n",
              "2                  0.0              0.0              5.0              0.0   \n",
              "3                  0.0              0.0              0.0              0.0   \n",
              "4                  0.0              0.0              0.0              0.0   \n",
              "...                ...              ...              ...              ...   \n",
              "84992              4.5              0.0              0.0              0.0   \n",
              "84993              0.0              0.0              4.0              0.0   \n",
              "84994              0.0              0.0              0.0              0.0   \n",
              "84995              0.0              0.0              0.0              0.0   \n",
              "84996              0.0              0.0              0.0              0.0   \n",
              "\n",
              "       feedback_avg_d5  \n",
              "0                  0.0  \n",
              "1                  0.0  \n",
              "2                  0.0  \n",
              "3                  0.0  \n",
              "4                  0.0  \n",
              "...                ...  \n",
              "84992              0.0  \n",
              "84993              0.0  \n",
              "84994              0.0  \n",
              "84995              0.0  \n",
              "84996              0.0  \n",
              "\n",
              "[84997 rows x 58 columns]"
            ],
            "text/html": [
              "\n",
              "  <div id=\"df-553e81e5-d418-4715-a1b7-07bf4a3d78e4\">\n",
              "    <div class=\"colab-df-container\">\n",
              "      <div>\n",
              "<style scoped>\n",
              "    .dataframe tbody tr th:only-of-type {\n",
              "        vertical-align: middle;\n",
              "    }\n",
              "\n",
              "    .dataframe tbody tr th {\n",
              "        vertical-align: top;\n",
              "    }\n",
              "\n",
              "    .dataframe thead th {\n",
              "        text-align: right;\n",
              "    }\n",
              "</style>\n",
              "<table border=\"1\" class=\"dataframe\">\n",
              "  <thead>\n",
              "    <tr style=\"text-align: right;\">\n",
              "      <th></th>\n",
              "      <th>id</th>\n",
              "      <th>age_indicator</th>\n",
              "      <th>month_id</th>\n",
              "      <th>student_id</th>\n",
              "      <th>program_id</th>\n",
              "      <th>carts_created_at</th>\n",
              "      <th>spent_time_total</th>\n",
              "      <th>spent_time_to_complete_hw</th>\n",
              "      <th>completed_hw</th>\n",
              "      <th>failed_hw</th>\n",
              "      <th>...</th>\n",
              "      <th>p_missed_calls</th>\n",
              "      <th>p_total_calls</th>\n",
              "      <th>p_was_conversations</th>\n",
              "      <th>p_total_duration</th>\n",
              "      <th>support_feedback_avg</th>\n",
              "      <th>feedback_avg_d1</th>\n",
              "      <th>feedback_avg_d2</th>\n",
              "      <th>feedback_avg_d3</th>\n",
              "      <th>feedback_avg_d4</th>\n",
              "      <th>feedback_avg_d5</th>\n",
              "    </tr>\n",
              "  </thead>\n",
              "  <tbody>\n",
              "    <tr>\n",
              "      <th>0</th>\n",
              "      <td>77551</td>\n",
              "      <td>0.0</td>\n",
              "      <td>5/31/2021</td>\n",
              "      <td>7064806</td>\n",
              "      <td>1395</td>\n",
              "      <td>2/28/2021</td>\n",
              "      <td>0.0</td>\n",
              "      <td>0.0</td>\n",
              "      <td>0.0</td>\n",
              "      <td>0.0</td>\n",
              "      <td>...</td>\n",
              "      <td>0.0</td>\n",
              "      <td>0.0</td>\n",
              "      <td>0.0</td>\n",
              "      <td>0.0</td>\n",
              "      <td>0.0</td>\n",
              "      <td>0.0</td>\n",
              "      <td>0.0</td>\n",
              "      <td>0.0</td>\n",
              "      <td>0.0</td>\n",
              "      <td>0.0</td>\n",
              "    </tr>\n",
              "    <tr>\n",
              "      <th>1</th>\n",
              "      <td>227812</td>\n",
              "      <td>27.0</td>\n",
              "      <td>5/31/2021</td>\n",
              "      <td>6982061</td>\n",
              "      <td>245</td>\n",
              "      <td>1/1/2021</td>\n",
              "      <td>81.0</td>\n",
              "      <td>0.0</td>\n",
              "      <td>5.0</td>\n",
              "      <td>0.0</td>\n",
              "      <td>...</td>\n",
              "      <td>0.0</td>\n",
              "      <td>0.0</td>\n",
              "      <td>0.0</td>\n",
              "      <td>0.0</td>\n",
              "      <td>0.0</td>\n",
              "      <td>0.0</td>\n",
              "      <td>0.0</td>\n",
              "      <td>0.0</td>\n",
              "      <td>0.0</td>\n",
              "      <td>0.0</td>\n",
              "    </tr>\n",
              "    <tr>\n",
              "      <th>2</th>\n",
              "      <td>103035</td>\n",
              "      <td>9.0</td>\n",
              "      <td>6/30/2021</td>\n",
              "      <td>7118790</td>\n",
              "      <td>1233</td>\n",
              "      <td>3/19/2021</td>\n",
              "      <td>49.0</td>\n",
              "      <td>0.0</td>\n",
              "      <td>2.0</td>\n",
              "      <td>0.0</td>\n",
              "      <td>...</td>\n",
              "      <td>0.0</td>\n",
              "      <td>0.0</td>\n",
              "      <td>0.0</td>\n",
              "      <td>0.0</td>\n",
              "      <td>0.0</td>\n",
              "      <td>0.0</td>\n",
              "      <td>0.0</td>\n",
              "      <td>5.0</td>\n",
              "      <td>0.0</td>\n",
              "      <td>0.0</td>\n",
              "    </tr>\n",
              "    <tr>\n",
              "      <th>3</th>\n",
              "      <td>260943</td>\n",
              "      <td>0.0</td>\n",
              "      <td>9/30/2021</td>\n",
              "      <td>7288419</td>\n",
              "      <td>784</td>\n",
              "      <td>6/29/2021</td>\n",
              "      <td>10.0</td>\n",
              "      <td>0.0</td>\n",
              "      <td>0.0</td>\n",
              "      <td>0.0</td>\n",
              "      <td>...</td>\n",
              "      <td>0.0</td>\n",
              "      <td>2.0</td>\n",
              "      <td>2.0</td>\n",
              "      <td>61.0</td>\n",
              "      <td>0.0</td>\n",
              "      <td>0.0</td>\n",
              "      <td>0.0</td>\n",
              "      <td>0.0</td>\n",
              "      <td>0.0</td>\n",
              "      <td>0.0</td>\n",
              "    </tr>\n",
              "    <tr>\n",
              "      <th>4</th>\n",
              "      <td>134611</td>\n",
              "      <td>7.0</td>\n",
              "      <td>8/31/2021</td>\n",
              "      <td>6949976</td>\n",
              "      <td>998</td>\n",
              "      <td>12/31/2020</td>\n",
              "      <td>0.0</td>\n",
              "      <td>0.0</td>\n",
              "      <td>0.0</td>\n",
              "      <td>0.0</td>\n",
              "      <td>...</td>\n",
              "      <td>0.0</td>\n",
              "      <td>0.0</td>\n",
              "      <td>0.0</td>\n",
              "      <td>0.0</td>\n",
              "      <td>0.0</td>\n",
              "      <td>0.0</td>\n",
              "      <td>0.0</td>\n",
              "      <td>0.0</td>\n",
              "      <td>0.0</td>\n",
              "      <td>0.0</td>\n",
              "    </tr>\n",
              "    <tr>\n",
              "      <th>...</th>\n",
              "      <td>...</td>\n",
              "      <td>...</td>\n",
              "      <td>...</td>\n",
              "      <td>...</td>\n",
              "      <td>...</td>\n",
              "      <td>...</td>\n",
              "      <td>...</td>\n",
              "      <td>...</td>\n",
              "      <td>...</td>\n",
              "      <td>...</td>\n",
              "      <td>...</td>\n",
              "      <td>...</td>\n",
              "      <td>...</td>\n",
              "      <td>...</td>\n",
              "      <td>...</td>\n",
              "      <td>...</td>\n",
              "      <td>...</td>\n",
              "      <td>...</td>\n",
              "      <td>...</td>\n",
              "      <td>...</td>\n",
              "      <td>...</td>\n",
              "    </tr>\n",
              "    <tr>\n",
              "      <th>84992</th>\n",
              "      <td>186427</td>\n",
              "      <td>15.0</td>\n",
              "      <td>10/31/2021</td>\n",
              "      <td>6841719</td>\n",
              "      <td>73</td>\n",
              "      <td>10/19/2021</td>\n",
              "      <td>10.0</td>\n",
              "      <td>0.0</td>\n",
              "      <td>0.0</td>\n",
              "      <td>0.0</td>\n",
              "      <td>...</td>\n",
              "      <td>0.0</td>\n",
              "      <td>0.0</td>\n",
              "      <td>0.0</td>\n",
              "      <td>0.0</td>\n",
              "      <td>0.0</td>\n",
              "      <td>4.5</td>\n",
              "      <td>0.0</td>\n",
              "      <td>0.0</td>\n",
              "      <td>0.0</td>\n",
              "      <td>0.0</td>\n",
              "    </tr>\n",
              "    <tr>\n",
              "      <th>84993</th>\n",
              "      <td>197918</td>\n",
              "      <td>27.0</td>\n",
              "      <td>11/30/2021</td>\n",
              "      <td>6469768</td>\n",
              "      <td>885</td>\n",
              "      <td>11/7/2021</td>\n",
              "      <td>27.0</td>\n",
              "      <td>0.0</td>\n",
              "      <td>0.0</td>\n",
              "      <td>0.0</td>\n",
              "      <td>...</td>\n",
              "      <td>0.0</td>\n",
              "      <td>0.0</td>\n",
              "      <td>0.0</td>\n",
              "      <td>0.0</td>\n",
              "      <td>0.0</td>\n",
              "      <td>0.0</td>\n",
              "      <td>0.0</td>\n",
              "      <td>4.0</td>\n",
              "      <td>0.0</td>\n",
              "      <td>0.0</td>\n",
              "    </tr>\n",
              "    <tr>\n",
              "      <th>84994</th>\n",
              "      <td>174961</td>\n",
              "      <td>37.0</td>\n",
              "      <td>10/31/2021</td>\n",
              "      <td>7328822</td>\n",
              "      <td>1126</td>\n",
              "      <td>7/5/2021</td>\n",
              "      <td>0.0</td>\n",
              "      <td>0.0</td>\n",
              "      <td>1.0</td>\n",
              "      <td>0.0</td>\n",
              "      <td>...</td>\n",
              "      <td>0.0</td>\n",
              "      <td>3.0</td>\n",
              "      <td>3.0</td>\n",
              "      <td>113.0</td>\n",
              "      <td>0.0</td>\n",
              "      <td>0.0</td>\n",
              "      <td>0.0</td>\n",
              "      <td>0.0</td>\n",
              "      <td>0.0</td>\n",
              "      <td>0.0</td>\n",
              "    </tr>\n",
              "    <tr>\n",
              "      <th>84995</th>\n",
              "      <td>182226</td>\n",
              "      <td>14.0</td>\n",
              "      <td>11/30/2021</td>\n",
              "      <td>5255473</td>\n",
              "      <td>1495</td>\n",
              "      <td>2/13/2021</td>\n",
              "      <td>0.0</td>\n",
              "      <td>0.0</td>\n",
              "      <td>0.0</td>\n",
              "      <td>0.0</td>\n",
              "      <td>...</td>\n",
              "      <td>0.0</td>\n",
              "      <td>0.0</td>\n",
              "      <td>0.0</td>\n",
              "      <td>0.0</td>\n",
              "      <td>0.0</td>\n",
              "      <td>0.0</td>\n",
              "      <td>0.0</td>\n",
              "      <td>0.0</td>\n",
              "      <td>0.0</td>\n",
              "      <td>0.0</td>\n",
              "    </tr>\n",
              "    <tr>\n",
              "      <th>84996</th>\n",
              "      <td>95178</td>\n",
              "      <td>17.0</td>\n",
              "      <td>6/30/2021</td>\n",
              "      <td>7243769</td>\n",
              "      <td>784</td>\n",
              "      <td>12/30/2020</td>\n",
              "      <td>0.0</td>\n",
              "      <td>0.0</td>\n",
              "      <td>0.0</td>\n",
              "      <td>0.0</td>\n",
              "      <td>...</td>\n",
              "      <td>0.0</td>\n",
              "      <td>0.0</td>\n",
              "      <td>0.0</td>\n",
              "      <td>0.0</td>\n",
              "      <td>0.0</td>\n",
              "      <td>0.0</td>\n",
              "      <td>0.0</td>\n",
              "      <td>0.0</td>\n",
              "      <td>0.0</td>\n",
              "      <td>0.0</td>\n",
              "    </tr>\n",
              "  </tbody>\n",
              "</table>\n",
              "<p>84997 rows × 58 columns</p>\n",
              "</div>\n",
              "      <button class=\"colab-df-convert\" onclick=\"convertToInteractive('df-553e81e5-d418-4715-a1b7-07bf4a3d78e4')\"\n",
              "              title=\"Convert this dataframe to an interactive table.\"\n",
              "              style=\"display:none;\">\n",
              "        \n",
              "  <svg xmlns=\"http://www.w3.org/2000/svg\" height=\"24px\"viewBox=\"0 0 24 24\"\n",
              "       width=\"24px\">\n",
              "    <path d=\"M0 0h24v24H0V0z\" fill=\"none\"/>\n",
              "    <path d=\"M18.56 5.44l.94 2.06.94-2.06 2.06-.94-2.06-.94-.94-2.06-.94 2.06-2.06.94zm-11 1L8.5 8.5l.94-2.06 2.06-.94-2.06-.94L8.5 2.5l-.94 2.06-2.06.94zm10 10l.94 2.06.94-2.06 2.06-.94-2.06-.94-.94-2.06-.94 2.06-2.06.94z\"/><path d=\"M17.41 7.96l-1.37-1.37c-.4-.4-.92-.59-1.43-.59-.52 0-1.04.2-1.43.59L10.3 9.45l-7.72 7.72c-.78.78-.78 2.05 0 2.83L4 21.41c.39.39.9.59 1.41.59.51 0 1.02-.2 1.41-.59l7.78-7.78 2.81-2.81c.8-.78.8-2.07 0-2.86zM5.41 20L4 18.59l7.72-7.72 1.47 1.35L5.41 20z\"/>\n",
              "  </svg>\n",
              "      </button>\n",
              "      \n",
              "  <style>\n",
              "    .colab-df-container {\n",
              "      display:flex;\n",
              "      flex-wrap:wrap;\n",
              "      gap: 12px;\n",
              "    }\n",
              "\n",
              "    .colab-df-convert {\n",
              "      background-color: #E8F0FE;\n",
              "      border: none;\n",
              "      border-radius: 50%;\n",
              "      cursor: pointer;\n",
              "      display: none;\n",
              "      fill: #1967D2;\n",
              "      height: 32px;\n",
              "      padding: 0 0 0 0;\n",
              "      width: 32px;\n",
              "    }\n",
              "\n",
              "    .colab-df-convert:hover {\n",
              "      background-color: #E2EBFA;\n",
              "      box-shadow: 0px 1px 2px rgba(60, 64, 67, 0.3), 0px 1px 3px 1px rgba(60, 64, 67, 0.15);\n",
              "      fill: #174EA6;\n",
              "    }\n",
              "\n",
              "    [theme=dark] .colab-df-convert {\n",
              "      background-color: #3B4455;\n",
              "      fill: #D2E3FC;\n",
              "    }\n",
              "\n",
              "    [theme=dark] .colab-df-convert:hover {\n",
              "      background-color: #434B5C;\n",
              "      box-shadow: 0px 1px 3px 1px rgba(0, 0, 0, 0.15);\n",
              "      filter: drop-shadow(0px 1px 2px rgba(0, 0, 0, 0.3));\n",
              "      fill: #FFFFFF;\n",
              "    }\n",
              "  </style>\n",
              "\n",
              "      <script>\n",
              "        const buttonEl =\n",
              "          document.querySelector('#df-553e81e5-d418-4715-a1b7-07bf4a3d78e4 button.colab-df-convert');\n",
              "        buttonEl.style.display =\n",
              "          google.colab.kernel.accessAllowed ? 'block' : 'none';\n",
              "\n",
              "        async function convertToInteractive(key) {\n",
              "          const element = document.querySelector('#df-553e81e5-d418-4715-a1b7-07bf4a3d78e4');\n",
              "          const dataTable =\n",
              "            await google.colab.kernel.invokeFunction('convertToInteractive',\n",
              "                                                     [key], {});\n",
              "          if (!dataTable) return;\n",
              "\n",
              "          const docLinkHtml = 'Like what you see? Visit the ' +\n",
              "            '<a target=\"_blank\" href=https://colab.research.google.com/notebooks/data_table.ipynb>data table notebook</a>'\n",
              "            + ' to learn more about interactive tables.';\n",
              "          element.innerHTML = '';\n",
              "          dataTable['output_type'] = 'display_data';\n",
              "          await google.colab.output.renderOutput(dataTable, element);\n",
              "          const docLink = document.createElement('div');\n",
              "          docLink.innerHTML = docLinkHtml;\n",
              "          element.appendChild(docLink);\n",
              "        }\n",
              "      </script>\n",
              "    </div>\n",
              "  </div>\n",
              "  "
            ]
          },
          "metadata": {},
          "execution_count": 31
        }
      ]
    },
    {
      "cell_type": "code",
      "source": [
        "df2.dtypes[df2.dtypes == \"object\"].values"
      ],
      "metadata": {
        "colab": {
          "base_uri": "https://localhost:8080/"
        },
        "id": "XUcaIzFO9FkV",
        "outputId": "2aa53b91-ae52-4dad-f2dd-45e189803b10"
      },
      "execution_count": null,
      "outputs": [
        {
          "output_type": "execute_result",
          "data": {
            "text/plain": [
              "array([dtype('O'), dtype('O'), dtype('O'), dtype('O'), dtype('O'),\n",
              "       dtype('O'), dtype('O'), dtype('O'), dtype('O'), dtype('O')],\n",
              "      dtype=object)"
            ]
          },
          "metadata": {},
          "execution_count": 32
        }
      ]
    },
    {
      "cell_type": "code",
      "source": [
        "mass_object2 = df2.dtypes[df2.dtypes == \"object\"].index.values"
      ],
      "metadata": {
        "id": "K1jVI_Yg9Iqs"
      },
      "execution_count": null,
      "outputs": []
    },
    {
      "cell_type": "code",
      "source": [
        "mass_object2"
      ],
      "metadata": {
        "colab": {
          "base_uri": "https://localhost:8080/"
        },
        "id": "VpxcvftU--0F",
        "outputId": "906753a8-5b92-41f4-b85e-f3b4f7e95923"
      },
      "execution_count": null,
      "outputs": [
        {
          "output_type": "execute_result",
          "data": {
            "text/plain": [
              "array(['month_id', 'carts_created_at', 'promo', 'communication_type',\n",
              "       'ABC', 'city', 'country', 'os', 'browser', 'platform'],\n",
              "      dtype=object)"
            ]
          },
          "metadata": {},
          "execution_count": 34
        }
      ]
    },
    {
      "cell_type": "code",
      "source": [
        "X2 = df2.drop(mass_object2, axis = 1)"
      ],
      "metadata": {
        "id": "9PLNdsN6-ANW"
      },
      "execution_count": null,
      "outputs": []
    },
    {
      "cell_type": "code",
      "source": [
        "pred2 = clf.predict(X2)"
      ],
      "metadata": {
        "id": "b4iHNxzf3Dtd"
      },
      "execution_count": null,
      "outputs": []
    },
    {
      "cell_type": "code",
      "source": [
        "pred2"
      ],
      "metadata": {
        "colab": {
          "base_uri": "https://localhost:8080/"
        },
        "id": "s30y111N_nRe",
        "outputId": "45859cf3-6efa-4680-a2c1-bfc4e510d209"
      },
      "execution_count": null,
      "outputs": [
        {
          "output_type": "execute_result",
          "data": {
            "text/plain": [
              "array([0, 0, 0, ..., 0, 0, 0])"
            ]
          },
          "metadata": {},
          "execution_count": 37
        }
      ]
    },
    {
      "cell_type": "code",
      "source": [
        "ypred = df2[[\"id\"]]"
      ],
      "metadata": {
        "id": "J_XwemW5_pAl"
      },
      "execution_count": null,
      "outputs": []
    },
    {
      "cell_type": "code",
      "source": [
        "ypred['target'] = pred2"
      ],
      "metadata": {
        "colab": {
          "base_uri": "https://localhost:8080/"
        },
        "id": "druJ1dgsAQBu",
        "outputId": "251fa11c-fa72-461d-a8d0-4c7b87498266"
      },
      "execution_count": null,
      "outputs": [
        {
          "output_type": "stream",
          "name": "stderr",
          "text": [
            "/usr/local/lib/python3.7/dist-packages/ipykernel_launcher.py:1: SettingWithCopyWarning: \n",
            "A value is trying to be set on a copy of a slice from a DataFrame.\n",
            "Try using .loc[row_indexer,col_indexer] = value instead\n",
            "\n",
            "See the caveats in the documentation: https://pandas.pydata.org/pandas-docs/stable/user_guide/indexing.html#returning-a-view-versus-a-copy\n",
            "  \"\"\"Entry point for launching an IPython kernel.\n"
          ]
        }
      ]
    },
    {
      "cell_type": "code",
      "source": [
        "print(ypred.shape)\n",
        "filename = 'submission_forest.csv'\n",
        "ypred.to_csv(filename,index=False)\n",
        "print('Saved file: ' + filename)"
      ],
      "metadata": {
        "colab": {
          "base_uri": "https://localhost:8080/"
        },
        "id": "k6af9bkV_-pO",
        "outputId": "665518f0-8fc5-417c-edfc-93b41662f03d"
      },
      "execution_count": null,
      "outputs": [
        {
          "output_type": "stream",
          "name": "stdout",
          "text": [
            "(84997, 2)\n",
            "Saved file: submission_forest.csv\n"
          ]
        }
      ]
    },
    {
      "cell_type": "markdown",
      "source": [
        "## Анализ базового решения показал, что алгоритм \"случайный лес\" и из коробки дает уже приличные результаты. Чтобы прийти к этому выводу, были исследованы и другие алгоритмы, оптимизирован датасет (обработаны признаки типа \"дата\", категориальные признаки, созданы новые признаки на основе существующих), исследована модель после оптимизации гиперпараметров, обогащен датасет. Исследования показали, что оптимизация гиперпараметров дает результаты хуже, чем \"случайный лес\" из коробки на обогащенном датасете."
      ],
      "metadata": {
        "id": "RjoY2dfBs21T"
      }
    },
    {
      "cell_type": "markdown",
      "source": [
        "Обработаем колонки типа \"дата\""
      ],
      "metadata": {
        "id": "a-8zi-JSudiV"
      }
    },
    {
      "cell_type": "code",
      "source": [
        "df.info()"
      ],
      "metadata": {
        "colab": {
          "base_uri": "https://localhost:8080/"
        },
        "id": "4gxcLx4f5p1l",
        "outputId": "8876e31e-2f56-4b28-8259-d1540e6fa628"
      },
      "execution_count": null,
      "outputs": [
        {
          "output_type": "stream",
          "name": "stdout",
          "text": [
            "<class 'pandas.core.frame.DataFrame'>\n",
            "RangeIndex: 200000 entries, 0 to 199999\n",
            "Data columns (total 59 columns):\n",
            " #   Column                     Non-Null Count   Dtype  \n",
            "---  ------                     --------------   -----  \n",
            " 0   id                         200000 non-null  int64  \n",
            " 1   age_indicator              200000 non-null  float64\n",
            " 2   month_id                   200000 non-null  object \n",
            " 3   student_id                 200000 non-null  int64  \n",
            " 4   program_id                 200000 non-null  int64  \n",
            " 5   carts_created_at           200000 non-null  object \n",
            " 6   spent_time_total           200000 non-null  float64\n",
            " 7   spent_time_to_complete_hw  200000 non-null  float64\n",
            " 8   completed_hw               200000 non-null  float64\n",
            " 9   failed_hw                  200000 non-null  float64\n",
            " 10  reworked_hw                200000 non-null  float64\n",
            " 11  interacted_hw              200000 non-null  float64\n",
            " 12  avg_hw_mark                200000 non-null  float64\n",
            " 13  test_with_good_mark        200000 non-null  float64\n",
            " 14  test_with_great_mark       200000 non-null  float64\n",
            " 15  webinars                   200000 non-null  float64\n",
            " 16  avg_quiz_result            200000 non-null  float64\n",
            " 17  notes                      200000 non-null  float64\n",
            " 18  hw_leader                  200000 non-null  float64\n",
            " 19  lessons                    200000 non-null  float64\n",
            " 20  activity                   200000 non-null  float64\n",
            " 21  bought_d1                  200000 non-null  int64  \n",
            " 22  bought_d2                  200000 non-null  int64  \n",
            " 23  bought_d3                  200000 non-null  int64  \n",
            " 24  bought_d4                  200000 non-null  int64  \n",
            " 25  bought_d5                  200000 non-null  int64  \n",
            " 26  bought_avg_duration        200000 non-null  float64\n",
            " 27  payment_type               200000 non-null  int64  \n",
            " 28  promo                      200000 non-null  object \n",
            " 29  price                      200000 non-null  float64\n",
            " 30  communication_type         200000 non-null  object \n",
            " 31  auto_payment               200000 non-null  int64  \n",
            " 32  ABC                        200000 non-null  object \n",
            " 33  city                       200000 non-null  object \n",
            " 34  country                    200000 non-null  object \n",
            " 35  gender                     200000 non-null  float64\n",
            " 36  speed_recall               200000 non-null  float64\n",
            " 37  os                         200000 non-null  object \n",
            " 38  browser                    200000 non-null  object \n",
            " 39  platform                   200000 non-null  object \n",
            " 40  m_avg_talk_duration        200000 non-null  float64\n",
            " 41  m_avg_duration             200000 non-null  float64\n",
            " 42  m_missed_calls             200000 non-null  float64\n",
            " 43  m_total_calls              200000 non-null  float64\n",
            " 44  m_was_conversations        200000 non-null  float64\n",
            " 45  m_total_duration           200000 non-null  float64\n",
            " 46  p_avg_talk_duration        200000 non-null  float64\n",
            " 47  p_avg_duration             200000 non-null  float64\n",
            " 48  p_missed_calls             200000 non-null  float64\n",
            " 49  p_total_calls              200000 non-null  float64\n",
            " 50  p_was_conversations        200000 non-null  float64\n",
            " 51  p_total_duration           200000 non-null  float64\n",
            " 52  support_feedback_avg       200000 non-null  float64\n",
            " 53  feedback_avg_d1            200000 non-null  float64\n",
            " 54  feedback_avg_d2            200000 non-null  float64\n",
            " 55  feedback_avg_d3            200000 non-null  float64\n",
            " 56  feedback_avg_d4            200000 non-null  float64\n",
            " 57  feedback_avg_d5            200000 non-null  float64\n",
            " 58  target                     200000 non-null  int64  \n",
            "dtypes: float64(38), int64(11), object(10)\n",
            "memory usage: 90.0+ MB\n"
          ]
        }
      ]
    },
    {
      "cell_type": "code",
      "source": [
        "df['month_id'] = pd.to_datetime(df['month_id']) # Преобразуем колонки с датами\n",
        "df['carts_created_at'] = pd.to_datetime(df['carts_created_at']) # Преобразуем колонки с датами"
      ],
      "metadata": {
        "id": "rZ-VG0fL87XE"
      },
      "execution_count": null,
      "outputs": []
    },
    {
      "cell_type": "code",
      "source": [
        "df['month_id_day'] = df['month_id'].dt.day\n",
        "df['month_id_day'].value_counts()"
      ],
      "metadata": {
        "colab": {
          "base_uri": "https://localhost:8080/"
        },
        "id": "MPYhfLYmfL58",
        "outputId": "f4105189-7642-4f9a-dc7a-b7482889838e"
      },
      "execution_count": null,
      "outputs": [
        {
          "output_type": "execute_result",
          "data": {
            "text/plain": [
              "31    107423\n",
              "30     82465\n",
              "28     10112\n",
              "Name: month_id_day, dtype: int64"
            ]
          },
          "metadata": {},
          "execution_count": 43
        }
      ]
    },
    {
      "cell_type": "code",
      "source": [
        "df['month_id_month'] = df['month_id'].dt.month\n",
        "df['month_id_month'].value_counts()"
      ],
      "metadata": {
        "colab": {
          "base_uri": "https://localhost:8080/"
        },
        "id": "DWZU4WX2fPfD",
        "outputId": "3adda2ee-871b-46de-f872-2839479688c6"
      },
      "execution_count": null,
      "outputs": [
        {
          "output_type": "execute_result",
          "data": {
            "text/plain": [
              "11    30298\n",
              "10    26842\n",
              "9     23967\n",
              "8     20938\n",
              "7     18076\n",
              "6     15672\n",
              "5     13807\n",
              "4     12528\n",
              "3     11353\n",
              "2     10112\n",
              "1      8815\n",
              "12     7592\n",
              "Name: month_id_month, dtype: int64"
            ]
          },
          "metadata": {},
          "execution_count": 44
        }
      ]
    },
    {
      "cell_type": "code",
      "source": [
        "df['month_id_year'] = df['month_id'].dt.year\n",
        "df['month_id_year'].value_counts()"
      ],
      "metadata": {
        "colab": {
          "base_uri": "https://localhost:8080/"
        },
        "id": "DYFfN0JwfSud",
        "outputId": "1b35403a-f391-4ccf-a6dc-e44c5b040f36"
      },
      "execution_count": null,
      "outputs": [
        {
          "output_type": "execute_result",
          "data": {
            "text/plain": [
              "2021    172094\n",
              "2020     27906\n",
              "Name: month_id_year, dtype: int64"
            ]
          },
          "metadata": {},
          "execution_count": 45
        }
      ]
    },
    {
      "cell_type": "code",
      "source": [
        "df['carts_created_at_day'] = df['carts_created_at'].dt.day\n",
        "df['carts_created_at_day'].value_counts()"
      ],
      "metadata": {
        "colab": {
          "base_uri": "https://localhost:8080/"
        },
        "id": "IzKWhxt0fS7x",
        "outputId": "a8e54d3e-06df-44ed-e3e4-07f7280af816"
      },
      "execution_count": null,
      "outputs": [
        {
          "output_type": "execute_result",
          "data": {
            "text/plain": [
              "30    9162\n",
              "19    9134\n",
              "18    7878\n",
              "20    7783\n",
              "16    7324\n",
              "17    6947\n",
              "11    6680\n",
              "25    6663\n",
              "29    6645\n",
              "21    6597\n",
              "14    6548\n",
              "28    6533\n",
              "23    6433\n",
              "15    6420\n",
              "12    6419\n",
              "24    6385\n",
              "13    6351\n",
              "26    6348\n",
              "10    6114\n",
              "7     6091\n",
              "27    6074\n",
              "9     5948\n",
              "3     5870\n",
              "4     5839\n",
              "8     5835\n",
              "5     5823\n",
              "6     5728\n",
              "22    5442\n",
              "31    5314\n",
              "1     4934\n",
              "2     4738\n",
              "Name: carts_created_at_day, dtype: int64"
            ]
          },
          "metadata": {},
          "execution_count": 46
        }
      ]
    },
    {
      "cell_type": "code",
      "source": [
        "df['carts_created_at_month'] = df['carts_created_at'].dt.month\n",
        "df['carts_created_at_month'].value_counts()"
      ],
      "metadata": {
        "colab": {
          "base_uri": "https://localhost:8080/"
        },
        "id": "bca8q64xfTtR",
        "outputId": "bcdd91ff-efe6-4960-e09f-e3b31360a211"
      },
      "execution_count": null,
      "outputs": [
        {
          "output_type": "execute_result",
          "data": {
            "text/plain": [
              "8     33371\n",
              "6     23639\n",
              "10    23637\n",
              "12    19919\n",
              "7     18085\n",
              "9     17733\n",
              "2     15142\n",
              "4     12484\n",
              "11    12336\n",
              "1      9906\n",
              "3      7985\n",
              "5      5763\n",
              "Name: carts_created_at_month, dtype: int64"
            ]
          },
          "metadata": {},
          "execution_count": 47
        }
      ]
    },
    {
      "cell_type": "markdown",
      "source": [
        "Обработаем категориальные признаки"
      ],
      "metadata": {
        "id": "G-84p5hauoQO"
      }
    },
    {
      "cell_type": "code",
      "source": [
        "df['carts_created_at_year'] = df['carts_created_at'].dt.year\n",
        "df['carts_created_at_year'].value_counts()"
      ],
      "metadata": {
        "colab": {
          "base_uri": "https://localhost:8080/"
        },
        "id": "L4T_0tj3fT3Z",
        "outputId": "13831a0c-2a07-4256-c882-5eebd23f2f28"
      },
      "execution_count": null,
      "outputs": [
        {
          "output_type": "execute_result",
          "data": {
            "text/plain": [
              "2020    115965\n",
              "2021     84035\n",
              "Name: carts_created_at_year, dtype: int64"
            ]
          },
          "metadata": {},
          "execution_count": 48
        }
      ]
    },
    {
      "cell_type": "code",
      "source": [
        "df['promo'] = df['promo'].replace('+', 1)\n",
        "df['promo'] = df['promo'].replace('-', 0)\n",
        "df['promo'].value_counts()"
      ],
      "metadata": {
        "colab": {
          "base_uri": "https://localhost:8080/"
        },
        "id": "K7TNSH6k9jYs",
        "outputId": "5d5140d7-2765-42f5-aa0e-762b6c2c71dd"
      },
      "execution_count": null,
      "outputs": [
        {
          "output_type": "execute_result",
          "data": {
            "text/plain": [
              "0    138595\n",
              "1     61405\n",
              "Name: promo, dtype: int64"
            ]
          },
          "metadata": {},
          "execution_count": 49
        }
      ]
    },
    {
      "cell_type": "code",
      "source": [
        "df['communication_type'] = df['communication_type'].replace('order', 1)\n",
        "df['communication_type'] = df['communication_type'].replace('web', 2)\n",
        "df['communication_type'] = df['communication_type'].replace('phone', 3)\n",
        "df['communication_type'].value_counts()"
      ],
      "metadata": {
        "colab": {
          "base_uri": "https://localhost:8080/"
        },
        "id": "CGBf6r6tL_0v",
        "outputId": "837a10a9-21d9-4d84-d405-c129eab8c8b9"
      },
      "execution_count": null,
      "outputs": [
        {
          "output_type": "execute_result",
          "data": {
            "text/plain": [
              "1    120786\n",
              "2     49759\n",
              "3     28050\n",
              "0      1405\n",
              "Name: communication_type, dtype: int64"
            ]
          },
          "metadata": {},
          "execution_count": 50
        }
      ]
    },
    {
      "cell_type": "code",
      "source": [
        "df['ABC'] = df['ABC'].replace('D', 1)\n",
        "df['ABC'] = df['ABC'].replace('A', 2)\n",
        "df['ABC'] = df['ABC'].replace('B', 3)\n",
        "df['ABC'] = df['ABC'].replace('C', 4)\n",
        "df['ABC'].value_counts()"
      ],
      "metadata": {
        "colab": {
          "base_uri": "https://localhost:8080/"
        },
        "id": "7crdWjKaMEbd",
        "outputId": "0b62a1b8-677b-47c0-dfab-04f840321ae1"
      },
      "execution_count": null,
      "outputs": [
        {
          "output_type": "execute_result",
          "data": {
            "text/plain": [
              "1    100371\n",
              "2     45884\n",
              "3     42605\n",
              "4     11140\n",
              "Name: ABC, dtype: int64"
            ]
          },
          "metadata": {},
          "execution_count": 51
        }
      ]
    },
    {
      "cell_type": "code",
      "source": [
        "df['city'].value_counts()   "
      ],
      "metadata": {
        "colab": {
          "base_uri": "https://localhost:8080/"
        },
        "id": "7F84e3fpN1JG",
        "outputId": "5cdefb5f-b153-4400-ce8f-06bde32b04e6"
      },
      "execution_count": null,
      "outputs": [
        {
          "output_type": "execute_result",
          "data": {
            "text/plain": [
              "0                         186408\n",
              "Москва                      5943\n",
              "Санкт-Петербург             1698\n",
              "Екатеринбург                 272\n",
              "Нижний Новгород              217\n",
              "                           ...  \n",
              "Таганрог                       1\n",
              "Комсомольск -на -Амуре         1\n",
              "Дербент                        1\n",
              "Михайловск                     1\n",
              "Москва/Сочи                    1\n",
              "Name: city, Length: 277, dtype: int64"
            ]
          },
          "metadata": {},
          "execution_count": 52
        }
      ]
    },
    {
      "cell_type": "markdown",
      "source": [
        "С признаками City и Country результаты ухудшались, поэтому они были убраны из итоговой модели"
      ],
      "metadata": {
        "id": "2UDvXLd5uyGd"
      }
    },
    {
      "cell_type": "code",
      "source": [
        "#df_train['city'] = df_train['city'].astype('category')\n",
        "#df_train['city'] = LabelEncoder().fit_transform(df_train['city'])\n",
        "#df['city'] = df_train['city']"
      ],
      "metadata": {
        "id": "N86G22h1pLBs"
      },
      "execution_count": null,
      "outputs": []
    },
    {
      "cell_type": "code",
      "source": [
        "#df['city'].value_counts()"
      ],
      "metadata": {
        "id": "hvK0nbMZqAC3"
      },
      "execution_count": null,
      "outputs": []
    },
    {
      "cell_type": "code",
      "source": [
        "#df_train['country'] = df_train['country'].astype('category')\n",
        "#df_train['country'] = LabelEncoder().fit_transform(df_train['country'])\n",
        "#df['country'] = df_train['country']"
      ],
      "metadata": {
        "id": "jp_Xpvdu09F_"
      },
      "execution_count": null,
      "outputs": []
    },
    {
      "cell_type": "code",
      "source": [
        "df['country'].value_counts()"
      ],
      "metadata": {
        "colab": {
          "base_uri": "https://localhost:8080/"
        },
        "id": "HVv11xf_OFuv",
        "outputId": "e4add1f7-1190-4e5a-ec1b-f35e761d9b13"
      },
      "execution_count": null,
      "outputs": [
        {
          "output_type": "execute_result",
          "data": {
            "text/plain": [
              "0                        187056\n",
              "Россия                    11727\n",
              "Беларусь                    203\n",
              "РФ                          202\n",
              "Казахстан                   161\n",
              "Украина                     157\n",
              "Росссия                      52\n",
              "Кыргызстан                   47\n",
              "Кипр                         41\n",
              "Латвия                       36\n",
              "Германия                     28\n",
              "Китай                        20\n",
              "Чешская Республика           20\n",
              "Франция                      19\n",
              "Бельгия                      19\n",
              "Испания                      17\n",
              "<span>Россия</span>          17\n",
              "Швейцария                    17\n",
              "США                          15\n",
              "Люксембург                   13\n",
              "Польша                       13\n",
              "Чили                         11\n",
              "Великобритания               11\n",
              "Израиль                      10\n",
              "Латвия                        9\n",
              "Канада                        9\n",
              "Литва                         9\n",
              "Нидерланды                    8\n",
              "Турция                        8\n",
              "Кыргызская Республика         7\n",
              "Япония                        6\n",
              "Италия                        6\n",
              "Республика Беларусь           5\n",
              "Netherlands                   5\n",
              "Финляндия                     5\n",
              "Узбекистан                    3\n",
              "Эстония                       3\n",
              "Словакия                      2\n",
              "Молдова                       2\n",
              "Черногория                    1\n",
              "Name: country, dtype: int64"
            ]
          },
          "metadata": {},
          "execution_count": 56
        }
      ]
    },
    {
      "cell_type": "markdown",
      "source": [
        "Продолжаем обрабатывать категориальные признаки, переводя их в числовые значения"
      ],
      "metadata": {
        "id": "3uSiHBI7vGir"
      }
    },
    {
      "cell_type": "code",
      "source": [
        "df_train['os'] = df_train['os'].astype('category')\n",
        "df_train['os'] = LabelEncoder().fit_transform(df_train['os'])\n",
        "df['os'] = df_train['os']"
      ],
      "metadata": {
        "id": "K31l6Tql1KES"
      },
      "execution_count": null,
      "outputs": []
    },
    {
      "cell_type": "code",
      "source": [
        "df['os'].value_counts()"
      ],
      "metadata": {
        "colab": {
          "base_uri": "https://localhost:8080/"
        },
        "id": "YyoPwwpSOvmI",
        "outputId": "1a056780-8d89-4c0e-820a-64b6984b2af2"
      },
      "execution_count": null,
      "outputs": [
        {
          "output_type": "execute_result",
          "data": {
            "text/plain": [
              "8    122626\n",
              "6     36895\n",
              "7     15665\n",
              "0     14096\n",
              "4     10097\n",
              "3       439\n",
              "5       155\n",
              "2        14\n",
              "1        13\n",
              "Name: os, dtype: int64"
            ]
          },
          "metadata": {},
          "execution_count": 58
        }
      ]
    },
    {
      "cell_type": "code",
      "source": [
        "df_train['browser'] = df_train['browser'].astype('category')\n",
        "df_train['browser'] = LabelEncoder().fit_transform(df_train['browser'])\n",
        "df['browser'] = df_train['browser']"
      ],
      "metadata": {
        "id": "cHVXc8Po1XNe"
      },
      "execution_count": null,
      "outputs": []
    },
    {
      "cell_type": "code",
      "source": [
        "df['browser'].value_counts()"
      ],
      "metadata": {
        "colab": {
          "base_uri": "https://localhost:8080/"
        },
        "id": "_wxwzD9kPQIe",
        "outputId": "61ec2020-07dc-48ba-82b8-e6fd23f7470d"
      },
      "execution_count": null,
      "outputs": [
        {
          "output_type": "execute_result",
          "data": {
            "text/plain": [
              "26    122626\n",
              "1      30557\n",
              "17     12364\n",
              "2       8239\n",
              "24      8204\n",
              "21      5128\n",
              "9       2682\n",
              "19      2444\n",
              "6       1858\n",
              "14      1630\n",
              "22      1258\n",
              "4       1010\n",
              "16       615\n",
              "12       373\n",
              "8        298\n",
              "20       245\n",
              "3        161\n",
              "10       112\n",
              "25        55\n",
              "13        42\n",
              "18        32\n",
              "11        22\n",
              "7         16\n",
              "5         11\n",
              "23         7\n",
              "15         6\n",
              "0          5\n",
              "Name: browser, dtype: int64"
            ]
          },
          "metadata": {},
          "execution_count": 60
        }
      ]
    },
    {
      "cell_type": "code",
      "source": [
        "df['platform'].value_counts()"
      ],
      "metadata": {
        "colab": {
          "base_uri": "https://localhost:8080/"
        },
        "id": "zPK4-OI9PXiX",
        "outputId": "67cbd7d3-407e-4e55-e0cb-312923df9e18"
      },
      "execution_count": null,
      "outputs": [
        {
          "output_type": "execute_result",
          "data": {
            "text/plain": [
              "0         122639\n",
              "pc         47600\n",
              "mobile     29285\n",
              "tablet       476\n",
              "Name: platform, dtype: int64"
            ]
          },
          "metadata": {},
          "execution_count": 61
        }
      ]
    },
    {
      "cell_type": "code",
      "source": [
        "df['platform'] = df['platform'].replace('pc', 1)\n",
        "df['platform'] = df['platform'].replace('mobile', 2)\n",
        "df['platform'] = df['platform'].replace('tablet', 3)\n",
        "df['platform'].value_counts()"
      ],
      "metadata": {
        "colab": {
          "base_uri": "https://localhost:8080/"
        },
        "id": "6MlLkQUlPc_2",
        "outputId": "4881c7e4-62f5-40f6-95fb-2ebc03ee743e"
      },
      "execution_count": null,
      "outputs": [
        {
          "output_type": "execute_result",
          "data": {
            "text/plain": [
              "0    122639\n",
              "1     47600\n",
              "2     29285\n",
              "3       476\n",
              "Name: platform, dtype: int64"
            ]
          },
          "metadata": {},
          "execution_count": 62
        }
      ]
    },
    {
      "cell_type": "code",
      "source": [
        "mass_object3 = df.dtypes[df.dtypes == \"object\"].index.values"
      ],
      "metadata": {
        "id": "ilcukvlwPvEW"
      },
      "execution_count": null,
      "outputs": []
    },
    {
      "cell_type": "code",
      "source": [
        "mass_object3 = np.append(mass_object3, \"target\")"
      ],
      "metadata": {
        "id": "xj1AgyOaYCBp"
      },
      "execution_count": null,
      "outputs": []
    },
    {
      "cell_type": "markdown",
      "source": [
        "Убираем лишние признаки"
      ],
      "metadata": {
        "id": "NPO66FZVvTbK"
      }
    },
    {
      "cell_type": "markdown",
      "source": [
        ""
      ],
      "metadata": {
        "id": "xytGz1JAvuZb"
      }
    },
    {
      "cell_type": "code",
      "source": [
        "mass_object3"
      ],
      "metadata": {
        "colab": {
          "base_uri": "https://localhost:8080/"
        },
        "id": "byL-TTDtQ6Cv",
        "outputId": "44bf8e57-037e-4bfe-a28b-8b60ca796920"
      },
      "execution_count": null,
      "outputs": [
        {
          "output_type": "execute_result",
          "data": {
            "text/plain": [
              "array(['city', 'country', 'target'], dtype=object)"
            ]
          },
          "metadata": {},
          "execution_count": 65
        }
      ]
    },
    {
      "cell_type": "markdown",
      "source": [
        "Пришлось создать новые признаки Год, Месяц, День из признаков типа \"дата\". Это дало лучший результат, чем просто обработка колонок типа \"дата\""
      ],
      "metadata": {
        "id": "FeTLNNDNvbQO"
      }
    },
    {
      "cell_type": "code",
      "source": [
        "df_train['month_id'] = df_train['month_id'].astype('category')\n",
        "df_train['month_id'] = LabelEncoder().fit_transform(df_train['month_id'])\n",
        "df['month_id'] = df_train['month_id']\n",
        "df_train['carts_created_at'] = df_train['carts_created_at'].astype('category')\n",
        "df_train['carts_created_at'] = LabelEncoder().fit_transform(df_train['carts_created_at'])\n",
        "df['carts_created_at'] = df_train['carts_created_at']\n",
        "\n",
        "X0 = df.drop(mass_object3, axis = 1)\n",
        "#X0 = X0.drop('month_id', axis = 1)\n",
        "#X0 = X0.drop('carts_created_at', axis = 1)\n",
        "\n",
        "X0['month_id_year'] = X0['month_id_year'] - 2020\n",
        "X0['carts_created_at_year'] = X0['carts_created_at_year'] - 2020\n",
        "X0.info()"
      ],
      "metadata": {
        "id": "t9-4U0MBQ_FH",
        "colab": {
          "base_uri": "https://localhost:8080/"
        },
        "outputId": "b84b7e17-09cb-40cb-b474-8d0dc62363ac"
      },
      "execution_count": null,
      "outputs": [
        {
          "output_type": "stream",
          "name": "stdout",
          "text": [
            "<class 'pandas.core.frame.DataFrame'>\n",
            "RangeIndex: 200000 entries, 0 to 199999\n",
            "Data columns (total 62 columns):\n",
            " #   Column                     Non-Null Count   Dtype  \n",
            "---  ------                     --------------   -----  \n",
            " 0   id                         200000 non-null  int64  \n",
            " 1   age_indicator              200000 non-null  float64\n",
            " 2   month_id                   200000 non-null  int64  \n",
            " 3   student_id                 200000 non-null  int64  \n",
            " 4   program_id                 200000 non-null  int64  \n",
            " 5   carts_created_at           200000 non-null  int64  \n",
            " 6   spent_time_total           200000 non-null  float64\n",
            " 7   spent_time_to_complete_hw  200000 non-null  float64\n",
            " 8   completed_hw               200000 non-null  float64\n",
            " 9   failed_hw                  200000 non-null  float64\n",
            " 10  reworked_hw                200000 non-null  float64\n",
            " 11  interacted_hw              200000 non-null  float64\n",
            " 12  avg_hw_mark                200000 non-null  float64\n",
            " 13  test_with_good_mark        200000 non-null  float64\n",
            " 14  test_with_great_mark       200000 non-null  float64\n",
            " 15  webinars                   200000 non-null  float64\n",
            " 16  avg_quiz_result            200000 non-null  float64\n",
            " 17  notes                      200000 non-null  float64\n",
            " 18  hw_leader                  200000 non-null  float64\n",
            " 19  lessons                    200000 non-null  float64\n",
            " 20  activity                   200000 non-null  float64\n",
            " 21  bought_d1                  200000 non-null  int64  \n",
            " 22  bought_d2                  200000 non-null  int64  \n",
            " 23  bought_d3                  200000 non-null  int64  \n",
            " 24  bought_d4                  200000 non-null  int64  \n",
            " 25  bought_d5                  200000 non-null  int64  \n",
            " 26  bought_avg_duration        200000 non-null  float64\n",
            " 27  payment_type               200000 non-null  int64  \n",
            " 28  promo                      200000 non-null  int64  \n",
            " 29  price                      200000 non-null  float64\n",
            " 30  communication_type         200000 non-null  int64  \n",
            " 31  auto_payment               200000 non-null  int64  \n",
            " 32  ABC                        200000 non-null  int64  \n",
            " 33  gender                     200000 non-null  float64\n",
            " 34  speed_recall               200000 non-null  float64\n",
            " 35  os                         200000 non-null  int64  \n",
            " 36  browser                    200000 non-null  int64  \n",
            " 37  platform                   200000 non-null  int64  \n",
            " 38  m_avg_talk_duration        200000 non-null  float64\n",
            " 39  m_avg_duration             200000 non-null  float64\n",
            " 40  m_missed_calls             200000 non-null  float64\n",
            " 41  m_total_calls              200000 non-null  float64\n",
            " 42  m_was_conversations        200000 non-null  float64\n",
            " 43  m_total_duration           200000 non-null  float64\n",
            " 44  p_avg_talk_duration        200000 non-null  float64\n",
            " 45  p_avg_duration             200000 non-null  float64\n",
            " 46  p_missed_calls             200000 non-null  float64\n",
            " 47  p_total_calls              200000 non-null  float64\n",
            " 48  p_was_conversations        200000 non-null  float64\n",
            " 49  p_total_duration           200000 non-null  float64\n",
            " 50  support_feedback_avg       200000 non-null  float64\n",
            " 51  feedback_avg_d1            200000 non-null  float64\n",
            " 52  feedback_avg_d2            200000 non-null  float64\n",
            " 53  feedback_avg_d3            200000 non-null  float64\n",
            " 54  feedback_avg_d4            200000 non-null  float64\n",
            " 55  feedback_avg_d5            200000 non-null  float64\n",
            " 56  month_id_day               200000 non-null  int64  \n",
            " 57  month_id_month             200000 non-null  int64  \n",
            " 58  month_id_year              200000 non-null  int64  \n",
            " 59  carts_created_at_day       200000 non-null  int64  \n",
            " 60  carts_created_at_month     200000 non-null  int64  \n",
            " 61  carts_created_at_year      200000 non-null  int64  \n",
            "dtypes: float64(38), int64(24)\n",
            "memory usage: 94.6 MB\n"
          ]
        }
      ]
    },
    {
      "cell_type": "markdown",
      "source": [
        "Делим датасет на тренировочный и валидационный"
      ],
      "metadata": {
        "id": "_LWLvnohv01B"
      }
    },
    {
      "cell_type": "code",
      "source": [
        "X_train, X_test, y_train, y_test = train_test_split(X0, y, test_size=0.2, random_state=42)"
      ],
      "metadata": {
        "id": "z0jVg-1cRHf_"
      },
      "execution_count": null,
      "outputs": []
    },
    {
      "cell_type": "markdown",
      "source": [
        "Не убрал этот блок. Здесь можно посмотреть, какие еще алгоритмы использовались и их результаты работы"
      ],
      "metadata": {
        "id": "dyHDgQAvv6zu"
      }
    },
    {
      "cell_type": "code",
      "source": [
        "#from sklearn import svm\n",
        "#clf = svm.SVC() #0.14\n",
        "\n",
        "#clf = RandomForestClassifier(criterion='entropy', #0.28\n",
        "#n_estimators=10000,\n",
        "#min_samples_split=100,\n",
        "#min_samples_leaf=1,\n",
        "#max_features='auto',\n",
        "#oob_score=True,\n",
        "#random_state=42,\n",
        "#n_jobs=-1)\n",
        "\n",
        "#from sklearn.neighbors import KNeighborsClassifier\n",
        "#clf = KNeighborsClassifier(n_neighbors=6) #0.33\n",
        "\n",
        "#clf = KNeighborsClassifier() #0.34\n",
        "\n",
        "#from sklearn import tree\n",
        "#clf = tree.DecisionTreeClassifier() #0.68\n",
        "\n",
        "#clf = RandomForestClassifier(random_state=0) #0.8157"
      ],
      "metadata": {
        "id": "ig16RlMNSD6Y"
      },
      "execution_count": null,
      "outputs": []
    },
    {
      "cell_type": "markdown",
      "source": [
        "Алгоритм, посвященный Форесту Гампу, выиграл)) Беги, Форест, беги))"
      ],
      "metadata": {
        "id": "HSfhtNHH06vs"
      }
    },
    {
      "cell_type": "code",
      "source": [
        "clf.fit(X_train, y_train.values.ravel()) "
      ],
      "metadata": {
        "colab": {
          "base_uri": "https://localhost:8080/"
        },
        "id": "_1VpyhYsRadb",
        "outputId": "7a1fddbc-0b80-4600-eec6-cbe631177b0a"
      },
      "execution_count": null,
      "outputs": [
        {
          "output_type": "execute_result",
          "data": {
            "text/plain": [
              "RandomForestClassifier(random_state=0)"
            ]
          },
          "metadata": {},
          "execution_count": 69
        }
      ]
    },
    {
      "cell_type": "code",
      "source": [
        "pred = clf.predict(X_test)"
      ],
      "metadata": {
        "id": "oWAaLchoTICw"
      },
      "execution_count": null,
      "outputs": []
    },
    {
      "cell_type": "code",
      "source": [
        "0.2* recall_score(y_test, pred, average='macro') + 0.8* precision_score(y_test, pred, average='macro')"
      ],
      "metadata": {
        "colab": {
          "base_uri": "https://localhost:8080/"
        },
        "id": "AtxSjtoKTPH_",
        "outputId": "a4369c15-af69-4720-ad90-cea3b3946d83"
      },
      "execution_count": null,
      "outputs": [
        {
          "output_type": "execute_result",
          "data": {
            "text/plain": [
              "0.8136924687848909"
            ]
          },
          "metadata": {},
          "execution_count": 71
        }
      ]
    },
    {
      "cell_type": "markdown",
      "source": [
        "Те же самые манипуляции проделываем и с тестовым датасетом, подготавливая его для предсказания"
      ],
      "metadata": {
        "id": "wPlAPcfd0zOt"
      }
    },
    {
      "cell_type": "code",
      "source": [
        "df2.info()"
      ],
      "metadata": {
        "colab": {
          "base_uri": "https://localhost:8080/"
        },
        "id": "BRuXYLgwTYxM",
        "outputId": "b22a236d-66df-4287-c8f7-8ccd55c8a6c1"
      },
      "execution_count": null,
      "outputs": [
        {
          "output_type": "stream",
          "name": "stdout",
          "text": [
            "<class 'pandas.core.frame.DataFrame'>\n",
            "RangeIndex: 84997 entries, 0 to 84996\n",
            "Data columns (total 58 columns):\n",
            " #   Column                     Non-Null Count  Dtype  \n",
            "---  ------                     --------------  -----  \n",
            " 0   id                         84997 non-null  int64  \n",
            " 1   age_indicator              84997 non-null  float64\n",
            " 2   month_id                   84997 non-null  object \n",
            " 3   student_id                 84997 non-null  int64  \n",
            " 4   program_id                 84997 non-null  int64  \n",
            " 5   carts_created_at           84997 non-null  object \n",
            " 6   spent_time_total           84997 non-null  float64\n",
            " 7   spent_time_to_complete_hw  84997 non-null  float64\n",
            " 8   completed_hw               84997 non-null  float64\n",
            " 9   failed_hw                  84997 non-null  float64\n",
            " 10  reworked_hw                84997 non-null  float64\n",
            " 11  interacted_hw              84997 non-null  float64\n",
            " 12  avg_hw_mark                84997 non-null  float64\n",
            " 13  test_with_good_mark        84997 non-null  float64\n",
            " 14  test_with_great_mark       84997 non-null  float64\n",
            " 15  webinars                   84997 non-null  float64\n",
            " 16  avg_quiz_result            84997 non-null  float64\n",
            " 17  notes                      84997 non-null  float64\n",
            " 18  hw_leader                  84997 non-null  float64\n",
            " 19  lessons                    84997 non-null  float64\n",
            " 20  activity                   84997 non-null  float64\n",
            " 21  bought_d1                  84997 non-null  int64  \n",
            " 22  bought_d2                  84997 non-null  int64  \n",
            " 23  bought_d3                  84997 non-null  int64  \n",
            " 24  bought_d4                  84997 non-null  int64  \n",
            " 25  bought_d5                  84997 non-null  int64  \n",
            " 26  bought_avg_duration        84997 non-null  float64\n",
            " 27  payment_type               84997 non-null  int64  \n",
            " 28  promo                      84997 non-null  object \n",
            " 29  price                      84997 non-null  float64\n",
            " 30  communication_type         84997 non-null  object \n",
            " 31  auto_payment               84997 non-null  int64  \n",
            " 32  ABC                        84997 non-null  object \n",
            " 33  city                       84997 non-null  object \n",
            " 34  country                    84997 non-null  object \n",
            " 35  gender                     84997 non-null  float64\n",
            " 36  speed_recall               84997 non-null  float64\n",
            " 37  os                         84997 non-null  object \n",
            " 38  browser                    84997 non-null  object \n",
            " 39  platform                   84997 non-null  object \n",
            " 40  m_avg_talk_duration        84997 non-null  float64\n",
            " 41  m_avg_duration             84997 non-null  float64\n",
            " 42  m_missed_calls             84997 non-null  float64\n",
            " 43  m_total_calls              84997 non-null  float64\n",
            " 44  m_was_conversations        84997 non-null  float64\n",
            " 45  m_total_duration           84997 non-null  float64\n",
            " 46  p_avg_talk_duration        84997 non-null  float64\n",
            " 47  p_avg_duration             84997 non-null  float64\n",
            " 48  p_missed_calls             84997 non-null  float64\n",
            " 49  p_total_calls              84997 non-null  float64\n",
            " 50  p_was_conversations        84997 non-null  float64\n",
            " 51  p_total_duration           84997 non-null  float64\n",
            " 52  support_feedback_avg       84997 non-null  float64\n",
            " 53  feedback_avg_d1            84997 non-null  float64\n",
            " 54  feedback_avg_d2            84997 non-null  float64\n",
            " 55  feedback_avg_d3            84997 non-null  float64\n",
            " 56  feedback_avg_d4            84997 non-null  float64\n",
            " 57  feedback_avg_d5            84997 non-null  float64\n",
            "dtypes: float64(38), int64(10), object(10)\n",
            "memory usage: 37.6+ MB\n"
          ]
        }
      ]
    },
    {
      "cell_type": "code",
      "source": [
        "df2['month_id'] = pd.to_datetime(df2['month_id']) # Преобразуем колонки с датами\n",
        "df2['carts_created_at'] = pd.to_datetime(df2['carts_created_at']) # Преобразуем колонки с датами"
      ],
      "metadata": {
        "id": "tY2_wfysTwQJ"
      },
      "execution_count": null,
      "outputs": []
    },
    {
      "cell_type": "code",
      "source": [
        "df2['month_id']"
      ],
      "metadata": {
        "colab": {
          "base_uri": "https://localhost:8080/"
        },
        "id": "MeWdlaoBcf1E",
        "outputId": "91205dfa-1f20-4af5-e8fa-f09012f84244"
      },
      "execution_count": null,
      "outputs": [
        {
          "output_type": "execute_result",
          "data": {
            "text/plain": [
              "0       2021-05-31\n",
              "1       2021-05-31\n",
              "2       2021-06-30\n",
              "3       2021-09-30\n",
              "4       2021-08-31\n",
              "           ...    \n",
              "84992   2021-10-31\n",
              "84993   2021-11-30\n",
              "84994   2021-10-31\n",
              "84995   2021-11-30\n",
              "84996   2021-06-30\n",
              "Name: month_id, Length: 84997, dtype: datetime64[ns]"
            ]
          },
          "metadata": {},
          "execution_count": 74
        }
      ]
    },
    {
      "cell_type": "code",
      "source": [
        "df2['month_id_day'] = df2['month_id'].dt.day\n",
        "df2['month_id_day'].value_counts()"
      ],
      "metadata": {
        "colab": {
          "base_uri": "https://localhost:8080/"
        },
        "id": "4iWhj4H7cx1U",
        "outputId": "bbf1e18d-354d-41dd-b4db-8f40833728c0"
      },
      "execution_count": null,
      "outputs": [
        {
          "output_type": "execute_result",
          "data": {
            "text/plain": [
              "31    45711\n",
              "30    35100\n",
              "28     4186\n",
              "Name: month_id_day, dtype: int64"
            ]
          },
          "metadata": {},
          "execution_count": 75
        }
      ]
    },
    {
      "cell_type": "code",
      "source": [
        "df2['month_id_month'] = df2['month_id'].dt.month\n",
        "df2['month_id_month'].value_counts()"
      ],
      "metadata": {
        "colab": {
          "base_uri": "https://localhost:8080/"
        },
        "id": "gvaRonlqdCSD",
        "outputId": "38793a64-965e-4b00-acdd-b88218c692d6"
      },
      "execution_count": null,
      "outputs": [
        {
          "output_type": "execute_result",
          "data": {
            "text/plain": [
              "11    12776\n",
              "10    11453\n",
              "9     10264\n",
              "8      8819\n",
              "7      7648\n",
              "6      6652\n",
              "5      5844\n",
              "4      5408\n",
              "3      4817\n",
              "2      4186\n",
              "1      3865\n",
              "12     3265\n",
              "Name: month_id_month, dtype: int64"
            ]
          },
          "metadata": {},
          "execution_count": 76
        }
      ]
    },
    {
      "cell_type": "code",
      "source": [
        "df2['month_id_year'] = df2['month_id'].dt.year\n",
        "df2['month_id_year'].value_counts()"
      ],
      "metadata": {
        "colab": {
          "base_uri": "https://localhost:8080/"
        },
        "id": "7WXB12BIdM3b",
        "outputId": "12860853-504c-4570-8751-d10a9467d18e"
      },
      "execution_count": null,
      "outputs": [
        {
          "output_type": "execute_result",
          "data": {
            "text/plain": [
              "2021    73165\n",
              "2020    11832\n",
              "Name: month_id_year, dtype: int64"
            ]
          },
          "metadata": {},
          "execution_count": 77
        }
      ]
    },
    {
      "cell_type": "code",
      "source": [
        "df2['carts_created_at']"
      ],
      "metadata": {
        "colab": {
          "base_uri": "https://localhost:8080/"
        },
        "id": "Bt9N_5hlchhZ",
        "outputId": "288407f6-d0ab-46da-bacb-985d9b8570be"
      },
      "execution_count": null,
      "outputs": [
        {
          "output_type": "execute_result",
          "data": {
            "text/plain": [
              "0       2021-02-28\n",
              "1       2021-01-01\n",
              "2       2021-03-19\n",
              "3       2021-06-29\n",
              "4       2020-12-31\n",
              "           ...    \n",
              "84992   2021-10-19\n",
              "84993   2021-11-07\n",
              "84994   2021-07-05\n",
              "84995   2021-02-13\n",
              "84996   2020-12-30\n",
              "Name: carts_created_at, Length: 84997, dtype: datetime64[ns]"
            ]
          },
          "metadata": {},
          "execution_count": 78
        }
      ]
    },
    {
      "cell_type": "code",
      "source": [
        "df2['carts_created_at_day'] = df2['carts_created_at'].dt.day\n",
        "df2['carts_created_at_day'].value_counts()"
      ],
      "metadata": {
        "colab": {
          "base_uri": "https://localhost:8080/"
        },
        "id": "aOFFLNaXdlV_",
        "outputId": "2f5759bd-ce72-4a21-83dc-f893e606e09f"
      },
      "execution_count": null,
      "outputs": [
        {
          "output_type": "execute_result",
          "data": {
            "text/plain": [
              "30    3825\n",
              "19    3805\n",
              "18    3420\n",
              "20    3325\n",
              "16    3150\n",
              "17    2932\n",
              "29    2888\n",
              "25    2860\n",
              "11    2856\n",
              "14    2844\n",
              "28    2829\n",
              "21    2776\n",
              "26    2776\n",
              "23    2767\n",
              "15    2736\n",
              "24    2718\n",
              "13    2665\n",
              "12    2638\n",
              "7     2628\n",
              "9     2554\n",
              "10    2522\n",
              "27    2516\n",
              "8     2512\n",
              "3     2463\n",
              "4     2435\n",
              "5     2409\n",
              "22    2366\n",
              "6     2334\n",
              "31    2203\n",
              "2     2142\n",
              "1     2103\n",
              "Name: carts_created_at_day, dtype: int64"
            ]
          },
          "metadata": {},
          "execution_count": 79
        }
      ]
    },
    {
      "cell_type": "code",
      "source": [
        "df2['carts_created_at_month'] = df2['carts_created_at'].dt.month\n",
        "df2['carts_created_at_month'].value_counts()"
      ],
      "metadata": {
        "colab": {
          "base_uri": "https://localhost:8080/"
        },
        "id": "-qhx4SoGec44",
        "outputId": "dd31451a-dcf5-4aff-a47b-6ee8898547a7"
      },
      "execution_count": null,
      "outputs": [
        {
          "output_type": "execute_result",
          "data": {
            "text/plain": [
              "8     13968\n",
              "6     10072\n",
              "10    10068\n",
              "12     8495\n",
              "7      7680\n",
              "9      7489\n",
              "2      6466\n",
              "4      5326\n",
              "11     5225\n",
              "1      4203\n",
              "3      3445\n",
              "5      2560\n",
              "Name: carts_created_at_month, dtype: int64"
            ]
          },
          "metadata": {},
          "execution_count": 80
        }
      ]
    },
    {
      "cell_type": "code",
      "source": [
        "df2['carts_created_at_year'] = df2['carts_created_at'].dt.year\n",
        "df2['carts_created_at_year'].value_counts()"
      ],
      "metadata": {
        "colab": {
          "base_uri": "https://localhost:8080/"
        },
        "id": "tSi0fJsqetcr",
        "outputId": "69fdb253-7c5b-4853-93a7-0c6106046573"
      },
      "execution_count": null,
      "outputs": [
        {
          "output_type": "execute_result",
          "data": {
            "text/plain": [
              "2020    49134\n",
              "2021    35863\n",
              "Name: carts_created_at_year, dtype: int64"
            ]
          },
          "metadata": {},
          "execution_count": 81
        }
      ]
    },
    {
      "cell_type": "code",
      "source": [
        "df2['promo'] = df2['promo'].replace('+', 1)\n",
        "df2['promo'] = df2['promo'].replace('-', 0)\n",
        "df2['promo'].value_counts()"
      ],
      "metadata": {
        "colab": {
          "base_uri": "https://localhost:8080/"
        },
        "id": "jAd90tdiT60u",
        "outputId": "74a9eb16-698c-4f52-97a8-954189792937"
      },
      "execution_count": null,
      "outputs": [
        {
          "output_type": "execute_result",
          "data": {
            "text/plain": [
              "0    59012\n",
              "1    25985\n",
              "Name: promo, dtype: int64"
            ]
          },
          "metadata": {},
          "execution_count": 82
        }
      ]
    },
    {
      "cell_type": "code",
      "source": [
        "df2['communication_type'] = df2['communication_type'].replace('order', 1)\n",
        "df2['communication_type'] = df2['communication_type'].replace('web', 2)\n",
        "df2['communication_type'] = df2['communication_type'].replace('phone', 3)\n",
        "df2['communication_type'].value_counts()"
      ],
      "metadata": {
        "colab": {
          "base_uri": "https://localhost:8080/"
        },
        "id": "-hCaau6yUJR4",
        "outputId": "d0b3cc04-bb66-4410-a18d-a8f03552409a"
      },
      "execution_count": null,
      "outputs": [
        {
          "output_type": "execute_result",
          "data": {
            "text/plain": [
              "1    51433\n",
              "2    21009\n",
              "3    11919\n",
              "0      636\n",
              "Name: communication_type, dtype: int64"
            ]
          },
          "metadata": {},
          "execution_count": 83
        }
      ]
    },
    {
      "cell_type": "code",
      "source": [
        "df2['ABC'] = df2['ABC'].replace('D', 1)\n",
        "df2['ABC'] = df2['ABC'].replace('A', 2)\n",
        "df2['ABC'] = df2['ABC'].replace('B', 3)\n",
        "df2['ABC'] = df2['ABC'].replace('C', 4)\n",
        "df2['ABC'].value_counts()"
      ],
      "metadata": {
        "colab": {
          "base_uri": "https://localhost:8080/"
        },
        "id": "UEOS0BjsUXHv",
        "outputId": "5489003e-21c9-4f02-b8bc-d89441c6d749"
      },
      "execution_count": null,
      "outputs": [
        {
          "output_type": "execute_result",
          "data": {
            "text/plain": [
              "1    42477\n",
              "2    19732\n",
              "3    18080\n",
              "4     4708\n",
              "Name: ABC, dtype: int64"
            ]
          },
          "metadata": {},
          "execution_count": 84
        }
      ]
    },
    {
      "cell_type": "code",
      "source": [
        "#df2_test['city'] = df2_test['city'].astype('category')\n",
        "#df2_test['city'] = LabelEncoder().fit_transform(df2_test['city'])\n",
        "#df2['city'] = df2_test['city']"
      ],
      "metadata": {
        "id": "bGJ90rUd2Ge-"
      },
      "execution_count": null,
      "outputs": []
    },
    {
      "cell_type": "code",
      "source": [
        "df2['city'].value_counts()   "
      ],
      "metadata": {
        "colab": {
          "base_uri": "https://localhost:8080/"
        },
        "id": "d4LQo5ZaUmAH",
        "outputId": "118d7377-cd80-4c0f-83ed-5534160ba1b1"
      },
      "execution_count": null,
      "outputs": [
        {
          "output_type": "execute_result",
          "data": {
            "text/plain": [
              "0                     79328\n",
              "Москва                 2517\n",
              "Санкт-Петербург         685\n",
              "Екатеринбург            123\n",
              "Нижний Новгород          96\n",
              "                      ...  \n",
              "Магадан                   1\n",
              "Токио                     1\n",
              "Perm                      1\n",
              "Александров               1\n",
              "Каменск-Шахтинский        1\n",
              "Name: city, Length: 259, dtype: int64"
            ]
          },
          "metadata": {},
          "execution_count": 86
        }
      ]
    },
    {
      "cell_type": "code",
      "source": [
        "#df2_test['country'] = df2_test['country'].astype('category')\n",
        "#df2_test['country'] = LabelEncoder().fit_transform(df2_test['country'])\n",
        "#df2['country'] = df2_test['country']"
      ],
      "metadata": {
        "id": "FWmpHBIN3Nyv"
      },
      "execution_count": null,
      "outputs": []
    },
    {
      "cell_type": "code",
      "source": [
        "df2['country'].value_counts()"
      ],
      "metadata": {
        "colab": {
          "base_uri": "https://localhost:8080/"
        },
        "id": "xPJnFbJ7UuP3",
        "outputId": "9575705e-dc4b-4ee6-9bb2-bb3f4d7da810"
      },
      "execution_count": null,
      "outputs": [
        {
          "output_type": "execute_result",
          "data": {
            "text/plain": [
              "0                        79574\n",
              "Россия                    4952\n",
              "Беларусь                    83\n",
              "РФ                          80\n",
              "Казахстан                   66\n",
              "Украина                     38\n",
              "Кипр                        17\n",
              "Кыргызстан                  17\n",
              "Франция                     13\n",
              "Китай                       12\n",
              "Росссия                     12\n",
              "Латвия                      12\n",
              "Чешская Республика          11\n",
              "Швейцария                    9\n",
              "Германия                     9\n",
              "Испания                      8\n",
              "Бельгия                      8\n",
              "Латвия                       8\n",
              "<span>Россия</span>          7\n",
              "США                          7\n",
              "Польша                       6\n",
              "Литва                        6\n",
              "Канада                       5\n",
              "Турция                       5\n",
              "Великобритания               5\n",
              "Италия                       4\n",
              "Кыргызская Республика        3\n",
              "Люксембург                   3\n",
              "Эстония                      3\n",
              "Словакия                     3\n",
              "Финляндия                    2\n",
              "Черногория                   2\n",
              "Чили                         2\n",
              "Израиль                      2\n",
              "Япония                       1\n",
              "Молдова                      1\n",
              "Нидерланды                   1\n",
              "Name: country, dtype: int64"
            ]
          },
          "metadata": {},
          "execution_count": 88
        }
      ]
    },
    {
      "cell_type": "code",
      "source": [
        "df2_test['os'] = df2_test['os'].astype('category')\n",
        "df2_test['os'] = LabelEncoder().fit_transform(df2_test['os'])\n",
        "df2['os'] = df2_test['os']"
      ],
      "metadata": {
        "id": "Yorb3B5c3ZYO"
      },
      "execution_count": null,
      "outputs": []
    },
    {
      "cell_type": "code",
      "source": [
        "df2['os'].value_counts()"
      ],
      "metadata": {
        "colab": {
          "base_uri": "https://localhost:8080/"
        },
        "id": "5Xn3kAjPU3qg",
        "outputId": "ff6e2c81-e263-409d-d752-14e4ce5b32ca"
      },
      "execution_count": null,
      "outputs": [
        {
          "output_type": "execute_result",
          "data": {
            "text/plain": [
              "8    51971\n",
              "6    15809\n",
              "7     6658\n",
              "0     5944\n",
              "4     4333\n",
              "3      202\n",
              "5       65\n",
              "1        8\n",
              "2        7\n",
              "Name: os, dtype: int64"
            ]
          },
          "metadata": {},
          "execution_count": 90
        }
      ]
    },
    {
      "cell_type": "code",
      "source": [
        "df2_test['browser'] = df2_test['browser'].astype('category')\n",
        "df2_test['browser'] = LabelEncoder().fit_transform(df2_test['browser'])\n",
        "df2['browser'] = df2_test['browser']"
      ],
      "metadata": {
        "id": "QC1lom9y3g83"
      },
      "execution_count": null,
      "outputs": []
    },
    {
      "cell_type": "code",
      "source": [
        "df2['browser'].value_counts()"
      ],
      "metadata": {
        "colab": {
          "base_uri": "https://localhost:8080/"
        },
        "id": "_fRtyHAiU-Kg",
        "outputId": "63f568a6-32cb-40ae-f913-e7aee0e77981"
      },
      "execution_count": null,
      "outputs": [
        {
          "output_type": "execute_result",
          "data": {
            "text/plain": [
              "27    51971\n",
              "1     13103\n",
              "17     5221\n",
              "2      3503\n",
              "25     3485\n",
              "22     2255\n",
              "9      1169\n",
              "19      976\n",
              "6       816\n",
              "14      694\n",
              "23      550\n",
              "4       421\n",
              "16      240\n",
              "12      173\n",
              "8       118\n",
              "20       92\n",
              "3        71\n",
              "10       59\n",
              "26       18\n",
              "11       15\n",
              "7        14\n",
              "18       11\n",
              "13        6\n",
              "5         6\n",
              "24        4\n",
              "15        3\n",
              "21        2\n",
              "0         1\n",
              "Name: browser, dtype: int64"
            ]
          },
          "metadata": {},
          "execution_count": 92
        }
      ]
    },
    {
      "cell_type": "code",
      "source": [
        "df2['platform'] = df2['platform'].replace('pc', 1)\n",
        "df2['platform'] = df2['platform'].replace('mobile', 2)\n",
        "df2['platform'] = df2['platform'].replace('tablet', 3)\n",
        "df2['platform'].value_counts()"
      ],
      "metadata": {
        "colab": {
          "base_uri": "https://localhost:8080/"
        },
        "id": "rcQg8whGVCC4",
        "outputId": "f1d60651-6d1d-42e8-ab11-0c8068a95d89"
      },
      "execution_count": null,
      "outputs": [
        {
          "output_type": "execute_result",
          "data": {
            "text/plain": [
              "0    51979\n",
              "1    20416\n",
              "2    12405\n",
              "3      197\n",
              "Name: platform, dtype: int64"
            ]
          },
          "metadata": {},
          "execution_count": 93
        }
      ]
    },
    {
      "cell_type": "code",
      "source": [
        "mass_object4 = df2.dtypes[df2.dtypes == \"object\"].index.values"
      ],
      "metadata": {
        "id": "N4DjHntaVNvQ"
      },
      "execution_count": null,
      "outputs": []
    },
    {
      "cell_type": "code",
      "source": [
        "mass_object4"
      ],
      "metadata": {
        "colab": {
          "base_uri": "https://localhost:8080/"
        },
        "id": "UiwfWJsZ3r9P",
        "outputId": "144de498-27b5-4fdb-9ff8-98cdb33c4a75"
      },
      "execution_count": null,
      "outputs": [
        {
          "output_type": "execute_result",
          "data": {
            "text/plain": [
              "array(['city', 'country'], dtype=object)"
            ]
          },
          "metadata": {},
          "execution_count": 95
        }
      ]
    },
    {
      "cell_type": "code",
      "source": [
        "df2_test['month_id'] = df2_test['month_id'].astype('category')\n",
        "df2_test['month_id'] = LabelEncoder().fit_transform(df2_test['month_id'])\n",
        "df2['month_id'] = df2_test['month_id']\n",
        "df2_test['carts_created_at'] = df2_test['carts_created_at'].astype('category')\n",
        "df2_test['carts_created_at'] = LabelEncoder().fit_transform(df2_test['carts_created_at'])\n",
        "df2['carts_created_at'] = df2_test['carts_created_at']\n",
        "\n",
        "X22 = df2.drop(mass_object4, axis = 1)\n",
        "\n",
        "X22['month_id_year'] = X22['month_id_year'] - 2020\n",
        "X22['carts_created_at_year'] = X22['carts_created_at_year'] - 2020"
      ],
      "metadata": {
        "id": "p0uK9IL8VVQY"
      },
      "execution_count": null,
      "outputs": []
    },
    {
      "cell_type": "code",
      "source": [
        "X22.shape"
      ],
      "metadata": {
        "colab": {
          "base_uri": "https://localhost:8080/"
        },
        "id": "qRzb8r-HINZr",
        "outputId": "bbed6361-731a-4b73-b85f-53b3a534812e"
      },
      "execution_count": null,
      "outputs": [
        {
          "output_type": "execute_result",
          "data": {
            "text/plain": [
              "(84997, 62)"
            ]
          },
          "metadata": {},
          "execution_count": 97
        }
      ]
    },
    {
      "cell_type": "code",
      "source": [
        "pred22 = clf.predict(X22)"
      ],
      "metadata": {
        "id": "HRN_OSG0Vho6"
      },
      "execution_count": null,
      "outputs": []
    },
    {
      "cell_type": "code",
      "source": [
        "ypred['target'] = pred22"
      ],
      "metadata": {
        "colab": {
          "base_uri": "https://localhost:8080/"
        },
        "id": "-hCHF6ZJYwvp",
        "outputId": "181051be-cd6e-4b91-bab6-8fa39d46406c"
      },
      "execution_count": null,
      "outputs": [
        {
          "output_type": "stream",
          "name": "stderr",
          "text": [
            "/usr/local/lib/python3.7/dist-packages/ipykernel_launcher.py:1: SettingWithCopyWarning: \n",
            "A value is trying to be set on a copy of a slice from a DataFrame.\n",
            "Try using .loc[row_indexer,col_indexer] = value instead\n",
            "\n",
            "See the caveats in the documentation: https://pandas.pydata.org/pandas-docs/stable/user_guide/indexing.html#returning-a-view-versus-a-copy\n",
            "  \"\"\"Entry point for launching an IPython kernel.\n"
          ]
        }
      ]
    },
    {
      "cell_type": "markdown",
      "source": [
        "Это решение промежуточное на основе случайного леса из коробки - 0.81. Оно лучше,чем с оптимизацией гиперпараметров (0.77)."
      ],
      "metadata": {
        "id": "Xhq45qGZyU9x"
      }
    },
    {
      "cell_type": "code",
      "source": [
        "print(ypred.shape)\n",
        "filename = 'submission_forest_plus_col_date12.csv'\n",
        "ypred.to_csv(filename,index=False)\n",
        "print('Saved file: ' + filename)"
      ],
      "metadata": {
        "colab": {
          "base_uri": "https://localhost:8080/"
        },
        "id": "z_SZXJTbY7Op",
        "outputId": "ae2b56b0-1e5d-4aff-ccf6-521796fd3dd9"
      },
      "execution_count": null,
      "outputs": [
        {
          "output_type": "stream",
          "name": "stdout",
          "text": [
            "(84997, 2)\n",
            "Saved file: submission_forest_plus_col_date12.csv\n"
          ]
        }
      ]
    },
    {
      "cell_type": "markdown",
      "source": [
        "Далее будет обогащен датасет. Увеличение датасета от 200000 до 3200000 строк сопровождалось ростом метрики. Сравнение алгоритмов с оптимизированными гиперпараметрами и с параметрами по умолчанию на обогащенном датасете опять продемонстрировало лучшие результаты у алгоритма \"случайный лес\" из коробки. Поэтому он только и был оставлен в коде.Попытки дальнейшего обогащения датасета уже ухудшали результаты. Поэтому был оставлен только текущий код. "
      ],
      "metadata": {
        "id": "t4zmHfPWyNel"
      }
    },
    {
      "cell_type": "code",
      "source": [
        "X00 = pd.concat([X0, X0], ignore_index=True) #400000\n",
        "y00 = pd.concat([y, y], ignore_index=True)\n",
        "\n",
        "X000 = pd.concat([X00, X00], ignore_index=True) #800000\n",
        "y000 = pd.concat([y00, y00], ignore_index=True)\n",
        "\n",
        "X3 = pd.concat([X000, X000], ignore_index=True) #1600000\n",
        "y3 = pd.concat([y000, y000], ignore_index=True)\n",
        "\n",
        "X4 = pd.concat([X3, X3], ignore_index=True) #3200000\n",
        "y4 = pd.concat([y3, y3], ignore_index=True)"
      ],
      "metadata": {
        "id": "Qa1_zHLekLdq"
      },
      "execution_count": null,
      "outputs": []
    },
    {
      "cell_type": "code",
      "source": [
        "X_train, X_test, y_train, y_test = train_test_split(X4, y4, test_size=0.5, random_state=42)"
      ],
      "metadata": {
        "id": "DdUYY3m3kLoV"
      },
      "execution_count": null,
      "outputs": []
    },
    {
      "cell_type": "code",
      "source": [
        "clf.fit(X_train, y_train.values.ravel()) "
      ],
      "metadata": {
        "colab": {
          "base_uri": "https://localhost:8080/"
        },
        "id": "ahQKReEkkLrE",
        "outputId": "39f041c7-22b5-4129-a926-f9ed71763656"
      },
      "execution_count": null,
      "outputs": [
        {
          "output_type": "execute_result",
          "data": {
            "text/plain": [
              "RandomForestClassifier(random_state=0)"
            ]
          },
          "metadata": {},
          "execution_count": 103
        }
      ]
    },
    {
      "cell_type": "code",
      "source": [
        "pred = clf.predict(X_test)"
      ],
      "metadata": {
        "id": "bFucQxTVkLt-"
      },
      "execution_count": null,
      "outputs": []
    },
    {
      "cell_type": "code",
      "source": [
        "0.2* recall_score(y_test, pred, average='macro') + 0.8* precision_score(y_test, pred, average='macro')"
      ],
      "metadata": {
        "colab": {
          "base_uri": "https://localhost:8080/"
        },
        "id": "H4DLwaatmKYD",
        "outputId": "b389677f-610a-42f6-f55a-296d7a94fccc"
      },
      "execution_count": null,
      "outputs": [
        {
          "output_type": "execute_result",
          "data": {
            "text/plain": [
              "1.0"
            ]
          },
          "metadata": {},
          "execution_count": 105
        }
      ]
    },
    {
      "cell_type": "code",
      "source": [
        "pred22 = clf.predict(X22)"
      ],
      "metadata": {
        "id": "b-CFWxpFmKbC"
      },
      "execution_count": null,
      "outputs": []
    },
    {
      "cell_type": "code",
      "source": [
        "ypred['target'] = pred22"
      ],
      "metadata": {
        "colab": {
          "base_uri": "https://localhost:8080/"
        },
        "id": "ZD2ybRu5m_7W",
        "outputId": "8249d000-1659-432d-b350-b4dea28054fc"
      },
      "execution_count": null,
      "outputs": [
        {
          "output_type": "stream",
          "name": "stderr",
          "text": [
            "/usr/local/lib/python3.7/dist-packages/ipykernel_launcher.py:1: SettingWithCopyWarning: \n",
            "A value is trying to be set on a copy of a slice from a DataFrame.\n",
            "Try using .loc[row_indexer,col_indexer] = value instead\n",
            "\n",
            "See the caveats in the documentation: https://pandas.pydata.org/pandas-docs/stable/user_guide/indexing.html#returning-a-view-versus-a-copy\n",
            "  \"\"\"Entry point for launching an IPython kernel.\n"
          ]
        }
      ]
    },
    {
      "cell_type": "code",
      "source": [
        "print(ypred.shape)\n",
        "filename = 'submission_forest_plus_col_date20.csv'\n",
        "ypred.to_csv(filename,index=False)\n",
        "print('Saved file: ' + filename)"
      ],
      "metadata": {
        "colab": {
          "base_uri": "https://localhost:8080/"
        },
        "id": "7mb9WV6HmKdz",
        "outputId": "02db919d-3da1-4bea-b21f-685b8f20bdc1"
      },
      "execution_count": null,
      "outputs": [
        {
          "output_type": "stream",
          "name": "stdout",
          "text": [
            "(84997, 2)\n",
            "Saved file: submission_forest_plus_col_date20.csv\n"
          ]
        }
      ]
    },
    {
      "cell_type": "markdown",
      "source": [
        "Данное решение из коробки, но на увеличенном датасете оказалось оптимальным и более надежным, чем алгоритм \"случайный лес\" с автоматически оптимизированными параметрами. Значение метрики - 0.8642. В качестве направления дальнейшего исследования предложил бы поработать с датасетом на предмет формирования новых признаков на основе объединения существующих. Удалось поработать только с датами, но есть и другие признаки, которые вносят ощутимый вклад в таргет."
      ],
      "metadata": {
        "id": "JUU0vg4ayxYf"
      }
    }
  ]
}